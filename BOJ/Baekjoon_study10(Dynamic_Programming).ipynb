{
  "nbformat": 4,
  "nbformat_minor": 0,
  "metadata": {
    "colab": {
      "provenance": [],
      "authorship_tag": "ABX9TyPbKYIK3vE0PzSEkBmZep1I",
      "include_colab_link": true
    },
    "kernelspec": {
      "name": "python3",
      "display_name": "Python 3"
    },
    "language_info": {
      "name": "python"
    }
  },
  "cells": [
    {
      "cell_type": "markdown",
      "metadata": {
        "id": "view-in-github",
        "colab_type": "text"
      },
      "source": [
        "<a href=\"https://colab.research.google.com/github/Hyeonglae-Cho/Coding_Study/blob/main/BOJ/Baekjoon_study10(Dynamic_Programming).ipynb\" target=\"_parent\"><img src=\"https://colab.research.google.com/assets/colab-badge.svg\" alt=\"Open In Colab\"/></a>"
      ]
    },
    {
      "cell_type": "code",
      "execution_count": null,
      "metadata": {
        "id": "uCn6MGUMx5Yp",
        "colab": {
          "base_uri": "https://localhost:8080/"
        },
        "outputId": "155c5eb6-dad9-4675-cf03-5a27e795d3b9"
      },
      "outputs": [
        {
          "name": "stdout",
          "output_type": "stream",
          "text": [
            "ACAYKP\n",
            "CAPCAK\n"
          ]
        }
      ],
      "source": [
        "# 9251 LCS\n",
        "\n",
        "import sys\n",
        "input = sys.stdin.readline\n",
        "\n",
        "seq1 = list(input().split()[0])\n",
        "seq2 = list(input().split()[0])\n",
        "\n",
        "rst = [[0]*(len(seq1)+1) for _ in range(len(seq2)+1)]\n",
        "\n",
        "for i in range(1,len(seq2)+1):\n",
        "\n",
        "  for j in range(1,len(seq1)+1):\n",
        "\n",
        "    if seq2[i-1] == seq1[j-1]:\n",
        "      rst[i][j] = rst[i-1][j-1] + 1\n",
        "\n",
        "    else:\n",
        "      rst[i][j] = max(rst[i-1][j],rst[i][j-1])\n",
        "\n",
        "print(rst[len(seq2)][len(seq1)])"
      ]
    },
    {
      "cell_type": "code",
      "source": [
        "# 2293 동전 1 (Version 1)\n",
        "# 메모리 문제 때문에 오답\n",
        "# 동전의 종류 만큼 행을 가짐 >> 메모리 커짐\n",
        "\n",
        "import sys\n",
        "input = sys.stdin.readline\n",
        "\n",
        "n,k = map(int,input().split())\n",
        "values = [int(input().split()[0]) for _ in range(n)]\n",
        "\n",
        "rst = [[0]*(k+1) for _ in range(n+1)]\n",
        "\n",
        "for i in range(1,n+1):\n",
        "  value = values[i-1]\n",
        "\n",
        "  for j in range(1,k+1):\n",
        "\n",
        "    if j == value:\n",
        "      rst[i][j] = rst[i-1][j] + 1\n",
        "\n",
        "    else:\n",
        "      rst[i][j] = rst[i-1][j] + rst[i][j-value]"
      ],
      "metadata": {
        "colab": {
          "base_uri": "https://localhost:8080/"
        },
        "id": "RRRzuyZcEMbb",
        "outputId": "5f8f0bf2-a3f8-426f-e4ec-d6337319a0ed"
      },
      "execution_count": null,
      "outputs": [
        {
          "name": "stdout",
          "output_type": "stream",
          "text": [
            "3 10\n",
            "1\n",
            "2\n",
            "5\n"
          ]
        }
      ]
    },
    {
      "cell_type": "code",
      "source": [
        "# 2293 동전 1 (Version 2)\n",
        "# 1차원의 배열로 문제를 해결 >> 메모리 문제 해결\n",
        "\n",
        "import sys\n",
        "input = sys.stdin.readline\n",
        "\n",
        "n,k = map(int,input().split())\n",
        "values = [int(input().split()[0]) for _ in range(n)]\n",
        "\n",
        "rst = [0]*(k+1)\n",
        "\n",
        "for i in range(n):\n",
        "  value = values[i]\n",
        "\n",
        "  for j in range(1,k+1):\n",
        "\n",
        "    if j == value:\n",
        "      rst[j] = rst[j] + 1\n",
        "\n",
        "    elif j > value:\n",
        "      rst[j] = rst[j] + rst[j-value]\n",
        "\n",
        "print(rst[k])"
      ],
      "metadata": {
        "colab": {
          "base_uri": "https://localhost:8080/"
        },
        "id": "dT8Q7o_rHbzt",
        "outputId": "9837484d-024d-4d63-ebe2-a9b702b43dcf"
      },
      "execution_count": null,
      "outputs": [
        {
          "output_type": "stream",
          "name": "stdout",
          "text": [
            "[0, 1, 1, 1, 1, 1, 1, 1, 1, 1, 1]\n",
            "[0, 1, 2, 2, 3, 3, 4, 4, 5, 5, 6]\n",
            "[0, 1, 2, 2, 3, 4, 5, 6, 7, 8, 10]\n"
          ]
        }
      ]
    },
    {
      "cell_type": "code",
      "source": [
        "# 2294 동전 2\n",
        "\n",
        "import sys\n",
        "input = sys.stdin.readline\n",
        "\n",
        "n,k = map(int,input().split())\n",
        "values = [int(input().split()[0]) for _ in range(n)]\n",
        "\n",
        "rst = [[0]+[10001]*k for _ in range(n+1)]\n",
        "\n",
        "for i in range(1,n+1):\n",
        "  value = values[i-1]\n",
        "\n",
        "  for j in range(1,k+1):\n",
        "\n",
        "    if j >= value:\n",
        "      rst[i][j] = min(rst[i-1][j],rst[i][j-value]+1)\n",
        "      # min(,이부분)이 핵심\n",
        "      # 가치가 value인 동전에 대해서 j만큼의 가치를 내기 위해서는\n",
        "      # j-value의 가치에 필요한 동전에서 가치가 value인 동전 1개만 더 필요함\n",
        "\n",
        "    else:\n",
        "      rst[i][j] = rst[i-1][j]\n",
        "\n",
        "if rst[n][k] == 10001:\n",
        "  print(-1)\n",
        "else:\n",
        "  print(rst[n][k])"
      ],
      "metadata": {
        "colab": {
          "base_uri": "https://localhost:8080/"
        },
        "id": "e0ro8ha4j-2R",
        "outputId": "3ecc137e-b466-4373-f5da-fec07ee3f9ae"
      },
      "execution_count": null,
      "outputs": [
        {
          "output_type": "stream",
          "name": "stdout",
          "text": [
            "2 10\n",
            "2\n",
            "3\n",
            "4\n"
          ]
        }
      ]
    },
    {
      "cell_type": "code",
      "source": [
        "# 2225 합분해\n",
        "# 점화식을 제대로 이해하고 사용하기\n",
        "# 결과 list를 만들 때 행과 열에 어떤 변수를 할당할지 제대로 파악\n",
        "\n",
        "import sys\n",
        "input = sys.stdin.readline\n",
        "\n",
        "N,K = map(int,input().split())\n",
        "\n",
        "rst = [[1]*(K+1)] + [[0]*(K+1) for _ in range(N)]\n",
        "\n",
        "for i in range(1,N+1):\n",
        "\n",
        "  for j in range(1,K+1):\n",
        "    rst[i][j] = rst[i-1][j] + rst[i][j-1]\n",
        "\n",
        "print(rst[N][K]%(10**9))"
      ],
      "metadata": {
        "colab": {
          "base_uri": "https://localhost:8080/"
        },
        "id": "LtJfU4U4opPi",
        "outputId": "2dee848c-1af7-494a-82a0-4645d976f79e"
      },
      "execution_count": null,
      "outputs": [
        {
          "name": "stdout",
          "output_type": "stream",
          "text": [
            "20 2\n"
          ]
        }
      ]
    },
    {
      "cell_type": "code",
      "source": [
        "# 2565 전깃줄\n",
        "\n",
        "import sys\n",
        "input = sys.stdin.readline\n",
        "\n",
        "N = int(input().split()[0])\n",
        "lines = [list(map(int,input().split())) for _ in range(N)]\n",
        "lines.sort(key=lambda x: x[0]) # 여러 조건문을 쓰지 않기 위해 정렬해줌\n",
        "\n",
        "rst = [1]*N # 모든 경우에 자기 자신만큼은 자신과 겹치지 않는 것이므로 기본 개수 1\n",
        "\n",
        "for i in range(N):\n",
        "\n",
        "  for j in range(i):\n",
        "\n",
        "    if lines[i][1] > lines[j][1]:\n",
        "      rst[i] = max(rst[j]+1,rst[i])\n",
        "      # j번째에 있는 어떤 선과 겹치지 않는다면, 그 선이 겹치지 않는 선의 개수 + 1\n",
        "      # i번째 선을 기준으로 이전에 위치한 모든 선을 봐야하므로\n",
        "      # 자기 자신의 값과 비교해서, 겹치지 않는 선의 최대 개수를 구함\n",
        "\n",
        "print(N-max(rst))\n",
        "# 총 선의 개수에서 겹치지 않는 선의 최대 개수를 빼서\n",
        "# 제거해야 하는 선의 개수를 구함"
      ],
      "metadata": {
        "colab": {
          "base_uri": "https://localhost:8080/"
        },
        "id": "2iBJN4Op1f3l",
        "outputId": "fa2562a1-da2a-4db4-88ab-311d36ef2cae"
      },
      "execution_count": null,
      "outputs": [
        {
          "name": "stdout",
          "output_type": "stream",
          "text": [
            "8\n",
            "1 8\n",
            "2 2\n",
            "3 9\n",
            "4 1\n",
            "6 4\n",
            "10 10\n",
            "9 7\n",
            "7 6\n"
          ]
        }
      ]
    },
    {
      "cell_type": "code",
      "source": [
        "# 14502 연구소\n",
        "\n",
        "from collections import deque\n",
        "import sys\n",
        "#input = sys.stdin.readline\n",
        "\n",
        "N,M = map(int,input().split())\n",
        "graph = [list(map(int,input().split())) for _ in range(N)]\n",
        "\n",
        "def bfs(R):\n",
        "\n",
        "  queue = deque()\n",
        "  queue.append(R)\n",
        "  visited[R[0]][R[1]] = 2\n",
        "\n",
        "  while queue:\n",
        "    x,y = queue.popleft()\n",
        "\n",
        "    for dx,dy in zip([-1,0,0,1],[0,-1,1,0]):\n",
        "      nx,ny = x+dx,y+dy\n",
        "\n",
        "      if (0 <= nx <= N-1) and (0 <= ny <= M-1):\n",
        "        if graph[nx][ny] == 0 and visited[nx][ny] == 0:\n",
        "          queue.append([nx,ny])\n",
        "          visited[nx][ny] = 2\n",
        "\n",
        "rst = []\n",
        "\n",
        "for i in range(N*M-2):\n",
        "  for j in range(i+1,N*M-1):\n",
        "    for k in range(j+1,N*M):\n",
        "      visited = [[0]*M for _ in range(N)]\n",
        "      a,b,c = [i//M,i%M],[j//M,j%M],[k//M,k%M]\n",
        "\n",
        "      if graph[a[0]][a[1]] == 0 and graph[b[0]][b[1]] == 0 and graph[c[0]][c[1]] == 0:\n",
        "        visited[a[0]][a[1]], visited[b[0]][b[1]], visited[c[0]][c[1]] = 1, 1, 1\n",
        "      else:\n",
        "        continue\n",
        "\n",
        "      for l in range(N):\n",
        "        for m in range(M):\n",
        "          if graph[l][m] == 2:\n",
        "            bfs([l,m])\n",
        "\n",
        "      cnt = 0\n",
        "      for n in range(N):\n",
        "        for o in range(M):\n",
        "          if graph[n][o] == 0 and visited[n][o] == 0:\n",
        "            cnt += 1\n",
        "\n",
        "      rst.append(cnt)\n",
        "\n",
        "print(max(rst))"
      ],
      "metadata": {
        "colab": {
          "base_uri": "https://localhost:8080/"
        },
        "id": "Ev8sHulWUSr0",
        "outputId": "c7fcd06a-4210-4cab-cacc-a751371d07b4"
      },
      "execution_count": null,
      "outputs": [
        {
          "output_type": "stream",
          "name": "stdout",
          "text": [
            "4 4\n",
            "2 1 0 0\n",
            "1 0 0 0\n",
            "0 0 0 1\n",
            "0 0 1 2\n",
            "7\n"
          ]
        }
      ]
    }
  ]
}