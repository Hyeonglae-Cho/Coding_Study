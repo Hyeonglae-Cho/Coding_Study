{
  "nbformat": 4,
  "nbformat_minor": 0,
  "metadata": {
    "colab": {
      "provenance": [],
      "authorship_tag": "ABX9TyPbCQKn4nfRjCQWtMPjkRbp",
      "include_colab_link": true
    },
    "kernelspec": {
      "name": "python3",
      "display_name": "Python 3"
    },
    "language_info": {
      "name": "python"
    }
  },
  "cells": [
    {
      "cell_type": "markdown",
      "metadata": {
        "id": "view-in-github",
        "colab_type": "text"
      },
      "source": [
        "<a href=\"https://colab.research.google.com/github/Hyeonglae-Cho/Coding_Study/blob/main/BOJ/Baekjoon_study2(Sorting).ipynb\" target=\"_parent\"><img src=\"https://colab.research.google.com/assets/colab-badge.svg\" alt=\"Open In Colab\"/></a>"
      ]
    },
    {
      "cell_type": "code",
      "execution_count": null,
      "metadata": {
        "colab": {
          "base_uri": "https://localhost:8080/"
        },
        "id": "gYbevIZIEe64",
        "outputId": "61c1e1d4-fbf6-45ea-aecb-541a2311c375"
      },
      "outputs": [
        {
          "output_type": "stream",
          "name": "stdout",
          "text": [
            "10 13\n",
            "BBBBBBBBWBWBW\n",
            "BBBBBBBBBWBWB\n",
            "BBBBBBBBWBWBW\n",
            "BBBBBBBBBWBWB\n",
            "BBBBBBBBWBWBW\n",
            "BBBBBBBBBWBWB\n",
            "BBBBBBBBWBWBW\n",
            "BBBBBBBBBWBWB\n",
            "WWWWWWWWWWBWB\n",
            "WWWWWWWWWWBWB\n",
            "12\n"
          ]
        }
      ],
      "source": [
        "# 1018 체스판 다시 칠하기\n",
        "\n",
        "N, M = map(int, input().split())\n",
        "board = list(input() for _ in range(N))\n",
        "ans = []\n",
        "\n",
        "chess_type = ['WBWBWBWBBWBWBWBWWBWBWBWBBWBWBWBWWBWBWBWBBWBWBWBWWBWBWBWBBWBWBWBW',\n",
        "              'BWBWBWBWWBWBWBWBBWBWBWBWWBWBWBWBBWBWBWBWWBWBWBWBBWBWBWBWWBWBWBWB']\n",
        "\n",
        "for i in range(0,N-7):\n",
        "  for j in range(0,M-7):\n",
        "    tmp = [item[j:j+8] for item in board[i:i+8]]\n",
        "    tmp = ''.join(tmp)\n",
        "\n",
        "    correction = 64 - max([sum([x == y for x, y in zip(tmp, chess_type[k])]) for k in range(2)])\n",
        "    ans.append(correction)\n",
        "\n",
        "print(min(ans))"
      ]
    },
    {
      "cell_type": "code",
      "source": [
        "# 1436 영화감독 숌\n",
        "\n",
        "N = int(input())\n",
        "names = []\n",
        "i = 665\n",
        "\n",
        "while(1):\n",
        "  if (len(names) == N):\n",
        "    break\n",
        "  elif '666' in str(i):\n",
        "    names.append(i)\n",
        "  i += 1\n",
        "\n",
        "print(names[N-1])"
      ],
      "metadata": {
        "colab": {
          "base_uri": "https://localhost:8080/"
        },
        "id": "LirW1lijWuT-",
        "outputId": "4907f627-fa9d-4801-ae22-68177ddb93ec"
      },
      "execution_count": null,
      "outputs": [
        {
          "output_type": "stream",
          "name": "stdout",
          "text": [
            "187\n",
            "66666\n"
          ]
        }
      ]
    },
    {
      "cell_type": "code",
      "source": [
        "# 2839 설탕 배달\n",
        "\n",
        "N = int(input())\n",
        "i, j = 0, 0\n",
        "sols = []\n",
        "\n",
        "for i in range(0,N//5 + 1):\n",
        "  for j in range(0,(N-5*i)//3 + 1):\n",
        "    if 5*i + 3*j == N:\n",
        "      sols.append(i+j)\n",
        "    j += 1\n",
        "  i += 1\n",
        "\n",
        "if len(sols) == 0:\n",
        "  print(-1)\n",
        "else: print(min(sols))"
      ],
      "metadata": {
        "colab": {
          "base_uri": "https://localhost:8080/"
        },
        "id": "6_gsbmMCaBIv",
        "outputId": "40cf4f8f-99bb-4828-f007-429a8f16eb87"
      },
      "execution_count": null,
      "outputs": [
        {
          "output_type": "stream",
          "name": "stdout",
          "text": [
            "25\n",
            "5\n"
          ]
        }
      ]
    },
    {
      "cell_type": "code",
      "source": [
        "# 2750 수 정렬하기\n",
        "\n",
        "N = int(input())\n",
        "nums = [int(input()) for _ in range(N)]\n",
        "\n",
        "nums.sort()\n",
        "for i in nums:\n",
        "  print(i)"
      ],
      "metadata": {
        "colab": {
          "base_uri": "https://localhost:8080/"
        },
        "id": "cgwv6qi0b71i",
        "outputId": "0c1d99d8-d7ec-4e45-e638-9f3fefd010ca"
      },
      "execution_count": null,
      "outputs": [
        {
          "output_type": "stream",
          "name": "stdout",
          "text": [
            "5\n",
            "5\n",
            "2\n",
            "3\n",
            "4\n",
            "1\n",
            "1\n",
            "2\n",
            "3\n",
            "4\n",
            "5\n"
          ]
        }
      ]
    },
    {
      "cell_type": "code",
      "source": [
        "# 2587 대표값2\n",
        "\n",
        "nums = [int(input()) for _ in range(5)]\n",
        "\n",
        "print(int(sum(nums) / len(nums)))\n",
        "nums.sort()\n",
        "print(nums[2])"
      ],
      "metadata": {
        "colab": {
          "base_uri": "https://localhost:8080/"
        },
        "id": "a_PrLQ6ceM-i",
        "outputId": "721c7ead-caec-4540-b2d1-2e592dabfee8"
      },
      "execution_count": null,
      "outputs": [
        {
          "output_type": "stream",
          "name": "stdout",
          "text": [
            "10\n",
            "40\n",
            "30\n",
            "60\n",
            "30\n",
            "34\n",
            "40\n"
          ]
        }
      ]
    },
    {
      "cell_type": "code",
      "source": [
        "# 25305 커트라인\n",
        "\n",
        "N, k = map(int, input().split())\n",
        "scores = list(map(int, input().split()))\n",
        "\n",
        "scores.sort()\n",
        "print(scores[-k])"
      ],
      "metadata": {
        "colab": {
          "base_uri": "https://localhost:8080/"
        },
        "id": "ougrtU5AeVRY",
        "outputId": "72fe855e-7b5e-4119-b317-7f3397d0faa9"
      },
      "execution_count": null,
      "outputs": [
        {
          "output_type": "stream",
          "name": "stdout",
          "text": [
            "5 2\n",
            "100 76 85 93 98\n",
            "98\n"
          ]
        }
      ]
    },
    {
      "cell_type": "markdown",
      "source": [
        "## 정렬 알고리즘들"
      ],
      "metadata": {
        "id": "cM1qTH0ZKll5"
      }
    },
    {
      "cell_type": "code",
      "source": [
        "# 버블정렬(Bubble Sort) - 인접한 두 수를 비교햐여, 작은 숫자는 왼쪽으로, 큰 숫자는 오른쪽으로 이동\n",
        "\n",
        "def bubbleSort(lst):\n",
        "  for i in range(len(lst)):\n",
        "    for j in range(len(lst)-i-1):\n",
        "      if lst[j] > lst[j+1]:\n",
        "        lst[j], lst[j+1] = lst[j+1], lst[j]\n",
        "\n",
        "  return lst"
      ],
      "metadata": {
        "id": "_RhbKCq_Kkpx"
      },
      "execution_count": null,
      "outputs": []
    },
    {
      "cell_type": "code",
      "source": [
        "# 삽입정렬(Insert Sort) - key 값을 이용해서 비교\n",
        "\n",
        "def insertSort(lst):\n",
        "  for i in range(len(lst)):\n",
        "    key = lst[i]\n",
        "    j = i-1\n",
        "\n",
        "    while(j >= 0 and key < lst[j]):\n",
        "      lst[j+1] = lst[j]\n",
        "      j -= 1\n",
        "\n",
        "    lst[j+1] = key\n",
        "\n",
        "  return lst"
      ],
      "metadata": {
        "id": "KsFoVbySLyFY"
      },
      "execution_count": null,
      "outputs": []
    },
    {
      "cell_type": "code",
      "source": [
        "# 선택정렬(Selection Sort) - 가장 작은 값을 갖는 위치를 찾아서 교환\n",
        "\n",
        "def selectSort(lst):\n",
        "  for i in range(len(lst)-1):\n",
        "    min_idx = i\n",
        "    for j in range(i+1,len(lst)):\n",
        "      if lst[min_idx] > lst[j]:\n",
        "        min_idx = j\n",
        "\n",
        "    lst[i], lst[min_idx] = lst[min_idx], lst[i]\n",
        "\n",
        "  return lst"
      ],
      "metadata": {
        "id": "VtlXOPZZQW9E"
      },
      "execution_count": null,
      "outputs": []
    },
    {
      "cell_type": "code",
      "source": [
        "# 병합정렬(Merge Sort) - list를 최대한 잘개 쪼개고, 각각에 대해 정렬한 후에, 한 번 합치고 정렬하는 과정을 계속해서 반복하는 방법\n",
        "\n",
        "def mergeSort(lst):\n",
        "  if len(lst) > 1:\n",
        "    # list의 길이가 1이 될 때까지 나눔 (left, right의 길이가 각각 1이 될 때까지)\n",
        "    mid = len(lst) // 2\n",
        "    left = lst[:mid]\n",
        "    right = lst[mid:]\n",
        "\n",
        "    mergeSort(left)\n",
        "    mergeSort(right)\n",
        "\n",
        "    # 길이가 1인 left, right를 정렬하여 합침. 길이가 2이면서 정렬된 left, right를 정렬하여 길이가 4인 list를 만듬. 이 과정을 반복해서 원래의 list길이가 될 때까지 정렬하여 합침.\n",
        "    i, j, k = 0, 0, 0\n",
        "\n",
        "    # left, right를 비교하여 정렬하면서 합치는데, 최소한 한 쪽의 원소들이 다 합쳐질 때까지 반복\n",
        "    while i < len(left) and j < len(right):\n",
        "      if left[i] < right[j]:\n",
        "        lst[k] = left[i]\n",
        "        i += 1\n",
        "      else:\n",
        "        lst[k] = right[j]\n",
        "        j += 1\n",
        "      k += 1\n",
        "\n",
        "    # 아직 합쳐지지 않은 나머지 부분을 병합, left와 right은 이미 정렬되어 있기 때문에 그냥 합치면 됨\n",
        "    while i < len(left):\n",
        "      lst[k] = left[i]\n",
        "      i += 1\n",
        "      k += 1\n",
        "    while j < len(right):\n",
        "      lst[k] = right[j]\n",
        "      j += 1\n",
        "      k += 1\n",
        "\n",
        "  return lst"
      ],
      "metadata": {
        "id": "aFFY5DwCR-tk"
      },
      "execution_count": null,
      "outputs": []
    },
    {
      "cell_type": "code",
      "source": [
        "# 2751 수 정렬하기 2 (다른 것보다 입력을 받을 때, input 함수를 이용하면 시간 초과 발생. 대신 sys.stdin.readline() 사용하기. colab 등의 환경에서는 사용 불가)\n",
        "\n",
        "import sys\n",
        "\n",
        "N = int(sys.stdin.readline())\n",
        "nums = [int(sys.stdin.readline()) for _ in range(N)]\n",
        "\n",
        "for i in sorted(nums):\n",
        "  print(i)"
      ],
      "metadata": {
        "id": "Sfxpk4E5gkCn"
      },
      "execution_count": null,
      "outputs": []
    },
    {
      "cell_type": "code",
      "source": [
        "# 10989 수 정렬하기 3 (10000이하의 자연수가 범위이기 때문에, input 부분에 -1과 print 부분에 +1이 없으면 런타임 에러 발생)\n",
        "\n",
        "import sys\n",
        "\n",
        "tmp = [0] * 10000\n",
        "N = int(sys.stdin.readline())\n",
        "\n",
        "for i in range(N):\n",
        "  tmp[int(sys.stdin.readline())-1] += 1\n",
        "\n",
        "for i in range(len(tmp)):\n",
        "  if tmp[i] != 0:\n",
        "    for _ in range(tmp[i]):\n",
        "      print(i+1)"
      ],
      "metadata": {
        "id": "AYNcFxXOFfAR"
      },
      "execution_count": null,
      "outputs": []
    },
    {
      "cell_type": "code",
      "source": [
        "# 1427 소트인사이드\n",
        "\n",
        "N = input()\n",
        "\n",
        "print(int(''.join(sorted(N, reverse = True))))"
      ],
      "metadata": {
        "colab": {
          "base_uri": "https://localhost:8080/"
        },
        "id": "mOKtowBQM0MY",
        "outputId": "6fb16616-2d41-4572-a0af-24b0af26d8a7"
      },
      "execution_count": null,
      "outputs": [
        {
          "output_type": "stream",
          "name": "stdout",
          "text": [
            "999998999\n",
            "999999998\n"
          ]
        }
      ]
    },
    {
      "cell_type": "code",
      "source": [
        "# 11650 좌표 정렬하기\n",
        "\n",
        "N = int(input())\n",
        "tmp = [list(map(int, input().split())) for i in range(N)]\n",
        "\n",
        "for coord in sorted(tmp, key = lambda x: (x[0], x[1])):\n",
        "  print(coord[0], coord[1])\n"
      ],
      "metadata": {
        "colab": {
          "base_uri": "https://localhost:8080/"
        },
        "id": "WkcVwVA-TYRI",
        "outputId": "5110a8c9-5710-4448-a07c-921fea32e6fd"
      },
      "execution_count": null,
      "outputs": [
        {
          "output_type": "stream",
          "name": "stdout",
          "text": [
            "1 -1\n",
            "1 1\n",
            "2 2\n",
            "3 3\n",
            "3 4\n"
          ]
        }
      ]
    },
    {
      "cell_type": "code",
      "source": [
        "# 11651 좌표 정렬하기 2\n",
        "\n",
        "N = int(input())\n",
        "tmp = [list(map(int, input().split())) for i in range(N)]\n",
        "\n",
        "for coord in sorted(tmp, key = lambda x: (x[1], x[0])):\n",
        "  print(coord[0], coord[1])"
      ],
      "metadata": {
        "colab": {
          "base_uri": "https://localhost:8080/"
        },
        "id": "_VMbxkWJaEPs",
        "outputId": "fb87de8f-3941-4930-8b14-413e5b7ef2d2"
      },
      "execution_count": null,
      "outputs": [
        {
          "output_type": "execute_result",
          "data": {
            "text/plain": [
              "[1, 2, 3]"
            ]
          },
          "metadata": {},
          "execution_count": 379
        }
      ]
    },
    {
      "cell_type": "code",
      "source": [
        "# 1181 단어 정렬\n",
        "\n",
        "N = int(input())\n",
        "words = [input() for i in range(N)]\n",
        "\n",
        "for word in sorted(set(words), key = lambda x: (len(x), x)):\n",
        "  print(word)"
      ],
      "metadata": {
        "colab": {
          "base_uri": "https://localhost:8080/"
        },
        "id": "MiyoksZ8b8XN",
        "outputId": "0bcb74a1-ebbe-4813-cd7a-e30ab81aaa76"
      },
      "execution_count": null,
      "outputs": [
        {
          "name": "stdout",
          "output_type": "stream",
          "text": [
            "13\n",
            "but\n",
            "i\n",
            "wont\n",
            "hesitate\n",
            "no\n",
            "more\n",
            "no\n",
            "more\n",
            "it\n",
            "cannot\n",
            "wait\n",
            "im\n",
            "yours\n"
          ]
        }
      ]
    },
    {
      "cell_type": "code",
      "source": [
        "# 10814 나이순 정렬\n",
        "\n",
        "lst = []\n",
        "N = int(input())\n",
        "\n",
        "for i in range(N):\n",
        "  a, b = input().split()\n",
        "  a = int(a)\n",
        "  lst.append([a,b])\n",
        "\n",
        "for member in sorted(lst, key = lambda x: x[0]):\n",
        "  print(member[0], member[1])"
      ],
      "metadata": {
        "colab": {
          "base_uri": "https://localhost:8080/"
        },
        "id": "eNQsLM7Ecn3e",
        "outputId": "6561625a-c150-4a84-874c-095335ce3959"
      },
      "execution_count": null,
      "outputs": [
        {
          "output_type": "stream",
          "name": "stdout",
          "text": [
            "3\n",
            "21 Junkyu\n",
            "21 Dohyun\n",
            "20 Sunyoung\n",
            "20 Sunyoung\n",
            "21 Junkyu\n",
            "21 Dohyun\n"
          ]
        }
      ]
    },
    {
      "cell_type": "code",
      "source": [
        "# 18870 좌표 압축 (dictionary를 이용하는게 시간이 더 빠름. index 함수는 조금 느린 편인듯)\n",
        "\n",
        "import sys\n",
        "\n",
        "N = int(sys.stdin.readline())\n",
        "coords = list(map(int, sys.stdin.readline().split()))\n",
        "\n",
        "coords_sorted = sorted(set(coords))\n",
        "coords_dic = {coords_sorted[i] : i for i in range(len(coords_sorted))}\n",
        "\n",
        "for coord in coords:\n",
        "  print(coords_dic[coord], end = ' ')\n",
        "\n",
        "#print(*[len(list(filter(lambda x: x < i, list(set(coords))))) for i in coords]) : 시간초과\n",
        "#print(*[sorted(set(coords)).index(i) for i in coords]) : 시간초과"
      ],
      "metadata": {
        "colab": {
          "base_uri": "https://localhost:8080/"
        },
        "id": "ata-_4P8c4IE",
        "outputId": "2e77c58d-f050-4a7d-c5f1-8edc4b44288a"
      },
      "execution_count": null,
      "outputs": [
        {
          "output_type": "stream",
          "name": "stdout",
          "text": [
            "5\n",
            "1000 999 1000 999 1000 999\n",
            "1 0 1 0 1 0 "
          ]
        }
      ]
    },
    {
      "cell_type": "code",
      "source": [
        "tmp = sorted(set(coords))\n",
        "dic = {tmp[i] : i for i in range(len(tmp))}\n",
        "\n",
        "for coord in coords:\n",
        "  print(dic[coord], end = ' ')"
      ],
      "metadata": {
        "colab": {
          "base_uri": "https://localhost:8080/"
        },
        "id": "JdaNETHkf_tV",
        "outputId": "83a96eb8-eb66-4c34-bbd8-8e63ac1f6bd0"
      },
      "execution_count": null,
      "outputs": [
        {
          "output_type": "stream",
          "name": "stdout",
          "text": [
            "2 3 0 3 1 "
          ]
        }
      ]
    },
    {
      "cell_type": "code",
      "source": [],
      "metadata": {
        "colab": {
          "base_uri": "https://localhost:8080/"
        },
        "id": "NQf8IEcqjquw",
        "outputId": "90919fc9-ef66-49f2-89ef-86f0051d3f2f"
      },
      "execution_count": null,
      "outputs": [
        {
          "output_type": "execute_result",
          "data": {
            "text/plain": [
              "0"
            ]
          },
          "metadata": {},
          "execution_count": 20
        }
      ]
    }
  ]
}