{
  "nbformat": 4,
  "nbformat_minor": 0,
  "metadata": {
    "colab": {
      "provenance": [],
      "authorship_tag": "ABX9TyMS55EpFAHVKeeNHOQVLTaJ",
      "include_colab_link": true
    },
    "kernelspec": {
      "name": "python3",
      "display_name": "Python 3"
    },
    "language_info": {
      "name": "python"
    }
  },
  "cells": [
    {
      "cell_type": "markdown",
      "metadata": {
        "id": "view-in-github",
        "colab_type": "text"
      },
      "source": [
        "<a href=\"https://colab.research.google.com/github/Hyeonglae-Cho/Coding_Study/blob/main/BOJ/Baekjoon_study3(Breadth_First_Search).ipynb\" target=\"_parent\"><img src=\"https://colab.research.google.com/assets/colab-badge.svg\" alt=\"Open In Colab\"/></a>"
      ]
    },
    {
      "cell_type": "code",
      "execution_count": null,
      "metadata": {
        "colab": {
          "base_uri": "https://localhost:8080/"
        },
        "id": "7Kl-vf-SCq1o",
        "outputId": "b4807e30-85b2-45ba-e0ec-b851168d49c2"
      },
      "outputs": [
        {
          "name": "stdout",
          "output_type": "stream",
          "text": [
            "5 5 1\n"
          ]
        }
      ],
      "source": [
        "# 24444 알고리즘 수업 - 너비 우선 탐색 1\n",
        "\n",
        "from collections import deque\n",
        "import sys\n",
        "\n",
        "input = sys.stdin.readline\n",
        "\n",
        "N, M, R = map(int, input().split())\n",
        "\n",
        "graph = [[] for _ in range(N+1)]\n",
        "visited = [0] * (N+1)\n",
        "\n",
        "for _ in range(M):\n",
        "  vert1, vert2 = map(int, input().split())\n",
        "  graph[vert1].append(vert2)\n",
        "  graph[vert2].append(vert1)\n",
        "\n",
        "def BFS(R):\n",
        "  count = 1\n",
        "  queue = deque([R])\n",
        "  visited[R] = 1\n",
        "\n",
        "  while queue:\n",
        "    vert = queue.popleft()\n",
        "    graph[vert].sort()\n",
        "\n",
        "    for i in graph[vert]:\n",
        "      if visited[i] == 0:\n",
        "        count += 1\n",
        "        visited[i] = count\n",
        "        queue.append(i)\n",
        "\n",
        "BFS(R)\n",
        "\n",
        "for i in range(1,N+1):\n",
        "  print(visited[i])"
      ]
    },
    {
      "cell_type": "code",
      "source": [
        "# 24445 알고리즘 수업 - 너비 우선 탐색 2\n",
        "\n",
        "from collections import deque\n",
        "import sys\n",
        "\n",
        "input = sys.stdin.readline\n",
        "\n",
        "N, M, O = map(int, input().split())\n",
        "\n",
        "graph = [[] for _ in range(N+1)]\n",
        "visited = [0] * (N+1)\n",
        "\n",
        "for _ in range(M):\n",
        "  vert1, vert2 = map(int, input().split())\n",
        "  graph[vert1].append(vert2)\n",
        "  graph[vert2].append(vert1)\n",
        "\n",
        "queue = deque([O])\n",
        "count = 1\n",
        "visited[O] = count\n",
        "\n",
        "while queue:\n",
        "  vert = queue.popleft()\n",
        "  graph[vert].sort(reverse = True)\n",
        "\n",
        "  for v in graph[vert]:\n",
        "    if visited[v] == 0:\n",
        "      count += 1\n",
        "      visited[v] = count\n",
        "      queue.append(v)\n",
        "\n",
        "print(*visited[1:])"
      ],
      "metadata": {
        "colab": {
          "base_uri": "https://localhost:8080/"
        },
        "id": "33AfXVghOzo6",
        "outputId": "1f69a304-2947-4ac1-b59d-f767b811e09f"
      },
      "execution_count": null,
      "outputs": [
        {
          "output_type": "stream",
          "name": "stdout",
          "text": [
            "5 5 1\n",
            "1 4\n",
            "1 2\n",
            "2 3\n",
            "2 4\n",
            "3 4\n",
            "1 3 4 2 0\n"
          ]
        }
      ]
    },
    {
      "cell_type": "code",
      "source": [
        "# 24446 알고리즘 수업 - 너비 우선 탐색 3\n",
        "\n",
        "from collections import deque\n",
        "import sys\n",
        "\n",
        "input = sys.stdin.readline\n",
        "\n",
        "N, M, R = map(int, input().split())\n",
        "\n",
        "graph = [[] for _ in range(N+1)]\n",
        "depth = [-1] * (N+1)\n",
        "\n",
        "for _ in range(M):\n",
        "  vert1, vert2 = map(int, input().split())\n",
        "  graph[vert1].append(vert2)\n",
        "  graph[vert2].append(vert1)\n",
        "\n",
        "queue = deque([R])\n",
        "depth[R] = 0\n",
        "\n",
        "while queue:\n",
        "  vert = queue.popleft()\n",
        "  connected_verts = graph[vert]\n",
        "\n",
        "  for v in connected_verts:\n",
        "    if depth[v] == -1:\n",
        "      depth[v] = depth[vert] + 1\n",
        "      queue.append(v)\n",
        "\n",
        "print(*depth[1:])"
      ],
      "metadata": {
        "colab": {
          "base_uri": "https://localhost:8080/"
        },
        "id": "pydB-sJGRR-6",
        "outputId": "a317cb06-5351-4724-e4b4-b75de913e481"
      },
      "execution_count": null,
      "outputs": [
        {
          "name": "stdout",
          "output_type": "stream",
          "text": [
            "5 5 1\n",
            "1 4\n",
            "1 2\n",
            "2 3\n",
            "2 4\n",
            "3 4\n"
          ]
        }
      ]
    },
    {
      "cell_type": "code",
      "source": [
        "# 24447 알고리즘 수업 - 너비 우선 탐색 4\n",
        "\n",
        "from collections import deque\n",
        "import sys\n",
        "\n",
        "input = sys.stdin.readline\n",
        "\n",
        "N, M, R = map(int, input().split())\n",
        "\n",
        "graph = [[] for _ in range(N+1)]\n",
        "visited = [0] * (N+1)\n",
        "depth = [-1] * (N+1)\n",
        "\n",
        "for _ in range(M):\n",
        "  vert1, vert2 = map(int, input().split())\n",
        "  graph[vert1].append(vert2)\n",
        "  graph[vert2].append(vert1)\n",
        "\n",
        "count = 1\n",
        "queue = deque([R])\n",
        "visited[R] = count\n",
        "depth[R] = 0\n",
        "\n",
        "while queue:\n",
        "  vert = queue.popleft()\n",
        "  graph[vert].sort()\n",
        "\n",
        "  for v in graph[vert]:\n",
        "    if visited[v] == 0 and depth[v] == -1:\n",
        "      count += 1\n",
        "      visited[v] = count\n",
        "      depth[v] = depth[vert] + 1\n",
        "      queue.append(v)\n",
        "\n",
        "print(sum([x * y for x,y in zip(visited[1:], depth[1:])]))"
      ],
      "metadata": {
        "colab": {
          "base_uri": "https://localhost:8080/"
        },
        "id": "OWAxdNCCXu9z",
        "outputId": "0a80bd9f-2d2c-4611-c2c4-abee435e9e78"
      },
      "execution_count": null,
      "outputs": [
        {
          "name": "stdout",
          "output_type": "stream",
          "text": [
            "5 5 1\n",
            "1 4\n",
            "1 2\n",
            "2 3\n",
            "2 4\n",
            "3 4\n"
          ]
        }
      ]
    },
    {
      "cell_type": "code",
      "source": [
        "# 2178 미로 탐색\n",
        "\n",
        "from collections import deque\n",
        "import sys\n",
        "\n",
        "input = sys.stdin.readline\n",
        "\n",
        "N, M = map(int, input().split())\n",
        "maze = [list(map(int, list(input().split()[0]))) for _ in range(N)]\n",
        "\n",
        "queue = deque([[0,0]])\n",
        "\n",
        "while queue:\n",
        "  x, y = queue.popleft()\n",
        "\n",
        "  for dx, dy in zip([-1,0,0,1],[0,1,-1,0]):\n",
        "    nx, ny = x+dx, y+dy\n",
        "    if (nx >=0 and nx <= N-1) and (ny >= 0 and ny <= M-1) and maze[nx][ny] == 1:\n",
        "      maze[nx][ny] = maze[x][y] + 1\n",
        "      queue.append([nx,ny])\n",
        "\n",
        "print(maze[N-1][M-1])"
      ],
      "metadata": {
        "colab": {
          "base_uri": "https://localhost:8080/"
        },
        "id": "ALcKPHjBcQd8",
        "outputId": "91e84b4a-15fe-4df9-e399-1a45113a135f"
      },
      "execution_count": null,
      "outputs": [
        {
          "name": "stdout",
          "output_type": "stream",
          "text": [
            "4 6\n",
            "101111\n",
            "101010\n",
            "101011\n",
            "111011\n"
          ]
        }
      ]
    },
    {
      "cell_type": "code",
      "source": [
        "# 2665 미로만들기\n",
        "\n",
        "from collections import deque\n",
        "import sys\n",
        "\n",
        "input = sys.stdin.readline\n",
        "\n",
        "N = int(input().split()[0])\n",
        "\n",
        "maze = [list(map(int, list(input().split()[0]))) for _ in range(N)]\n",
        "\n",
        "queue = deque([[0,0]])\n",
        "cor_num = [[-1]*N for _ in range(N)]\n",
        "cor_num[0][0] = 0\n",
        "\n",
        "while queue:\n",
        "  x, y = queue.popleft()\n",
        "\n",
        "  for dx, dy in zip([-1,0,0,1],[0,1,-1,0]):\n",
        "    nx, ny = x+dx, y+dy\n",
        "\n",
        "    if (0 <= nx <= N-1) and (0 <= ny <= N-1) and cor_num[nx][ny] == -1:\n",
        "      if maze[nx][ny] == 1:\n",
        "        cor_num[nx][ny] = cor_num[x][y]\n",
        "        queue.appendleft([nx,ny])\n",
        "      else:\n",
        "        cor_num[nx][ny] = cor_num[x][y] + 1\n",
        "        queue.append([nx,ny])\n",
        "\n",
        "print(cor_num[N-1][N-1])"
      ],
      "metadata": {
        "colab": {
          "base_uri": "https://localhost:8080/"
        },
        "id": "VI8qHCl1tSF7",
        "outputId": "e9063d0f-7105-4952-88ac-0b0d7836bbe6"
      },
      "execution_count": null,
      "outputs": [
        {
          "name": "stdout",
          "output_type": "stream",
          "text": [
            "8\n",
            "11100110\n",
            "11010010\n",
            "10011010\n",
            "11101100\n",
            "01000111\n",
            "00110001\n",
            "11011000\n",
            "11000111\n"
          ]
        }
      ]
    }
  ]
}