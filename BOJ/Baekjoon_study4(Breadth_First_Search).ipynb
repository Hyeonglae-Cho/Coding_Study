{
  "nbformat": 4,
  "nbformat_minor": 0,
  "metadata": {
    "colab": {
      "provenance": [],
      "authorship_tag": "ABX9TyO4mqELs0bKOU/l7ih8U5qB",
      "include_colab_link": true
    },
    "kernelspec": {
      "name": "python3",
      "display_name": "Python 3"
    },
    "language_info": {
      "name": "python"
    }
  },
  "cells": [
    {
      "cell_type": "markdown",
      "metadata": {
        "id": "view-in-github",
        "colab_type": "text"
      },
      "source": [
        "<a href=\"https://colab.research.google.com/github/Hyeonglae-Cho/Coding_Study/blob/main/BOJ/Baekjoon_study4(Breadth_First_Search).ipynb\" target=\"_parent\"><img src=\"https://colab.research.google.com/assets/colab-badge.svg\" alt=\"Open In Colab\"/></a>"
      ]
    },
    {
      "cell_type": "code",
      "execution_count": null,
      "metadata": {
        "colab": {
          "base_uri": "https://localhost:8080/"
        },
        "id": "L5xvpNojd7ti",
        "outputId": "358a1554-8651-4200-e0f9-98625bc28bfe"
      },
      "outputs": [
        {
          "output_type": "stream",
          "name": "stdout",
          "text": [
            "5 6\n",
            "1 1\n",
            "5 6\n",
            "0 1 1 1 0 0\n",
            "0 1 1 0 0 0\n",
            "0 1 0 0 1 0\n",
            "0 1 0 0 1 0\n",
            "0 0 0 1 1 0\n",
            "11\n"
          ]
        }
      ],
      "source": [
        "# 14923 미로 탈출\n",
        "\n",
        "from collections import deque\n",
        "import sys\n",
        "\n",
        "input = sys.stdin.readline\n",
        "\n",
        "N, M = map(int, input().split())\n",
        "Hx, Hy = map(int, input().split())\n",
        "Ex, Ey = map(int, input().split())\n",
        "Hx, Hy, Ex, Ey = Hx-1, Hy-1, Ex-1, Ey-1\n",
        "\n",
        "maze = [list(map(int, input().split())) for _ in range(N)]\n",
        "visited = [[[0]*2 for _ in range(M)] for _ in range(N)] # 벽을 허물었는지 아닌지를 구분하기 위해서 3차원 list를 이용해서 방문 여부를 확인.\n",
        "\n",
        "queue = deque([[Hx,Hy,0,0]])\n",
        "visited[Hx][Hy] = [1,1]\n",
        "\n",
        "while queue:\n",
        "  x, y, magic, count = queue.popleft()\n",
        "\n",
        "  if [x,y] == [Ex,Ey]:\n",
        "    print(count)\n",
        "    break\n",
        "\n",
        "  for dx, dy in zip([-1,0,1,0],[0,1,0,-1]):\n",
        "    nx, ny = x+dx, y+dy\n",
        "\n",
        "    if (0 <= nx <= N-1) and (0 <= ny <= M-1) and (visited[nx][ny][magic] != 1): # visited[nx][ny][magic] != 1 조건은 같은 방식(벽을 한번도 지나지 않거나 벽을 한 번 지나는 경우)을 통해서 어떤 node에 도착하면 그 부분은 계산하지 않는 조건\n",
        "      if (maze[nx][ny] == 0) and (visited[nx][ny][magic] == 0): # visited[nx][ny][magic] == 0 조건은 0인 node끼리 무한하게 반복하는 경우를 제외하기 위한 조건\n",
        "        visited[nx][ny][magic] = 1\n",
        "        queue.append([nx,ny,magic,count+1])\n",
        "      elif (magic == 0): # 벽을 한 번 지난 경우에는 다시 벽을 지나지 못하게 하는 조건.\n",
        "        visited[nx][ny][1] = 1\n",
        "        queue.append([nx,ny,1,count+1])\n",
        "\n",
        "if [x,y] != [Ex,Ey]: print(-1)\n",
        "\n",
        "# 한 번도 벽을 허물지 않고 계속해서 node를 지난 경우에는 visited[][] == [1,0] and magic == 0이고 한 번이라도 벽을 허물고 지나간 경우에는 visited[][] == [0,1]이고 magic == 1. magic == 1이 되면 다시는 0으로 바뀌지 않음.\n",
        "# 따라서, 이를 이용해서 벽인 부분을 (maze[][] == 1) 두 번 이상 지나지 않도록 하는 것.\n",
        "# visited 변수가 없으면 무한히 반복하는 경우가 생길 수 있고, 만약 도달할 수 없는 경우라면 roop가 멈추지 않을 것임.\n",
        "# 즉, visited 변수는 이러한 것을 해결하는 동시에, 반복을 줄여서 계산도 더 빠르게 하고 있음."
      ]
    },
    {
      "cell_type": "code",
      "source": [
        "# 1347 미로 만들기\n",
        "\n",
        "from collections import deque\n",
        "import sys\n",
        "\n",
        "input = sys.stdin.readline\n",
        "\n",
        "N = int(input().split()[0])\n",
        "wrt = input().split()[0]\n",
        "\n",
        "graph = deque([[0,0]])\n",
        "coords_x = [0]\n",
        "coords_y = [0]\n",
        "dir_idx = 0\n",
        "queue = deque([[0,0]])\n",
        "\n",
        "dx = [0, -1, 0, 1]\n",
        "dy = [-1, 0, 1, 0]\n",
        "\n",
        "for i in wrt:\n",
        "  if i == 'R':\n",
        "    dir_idx += 1\n",
        "  elif i == 'L':\n",
        "    dir_idx -= 1\n",
        "  elif i == 'F':\n",
        "    x, y = queue.popleft()\n",
        "\n",
        "    nx, ny = x+dx[dir_idx%4], y+dy[dir_idx%4]\n",
        "    graph.append([nx,ny])\n",
        "    coords_x.append(nx)\n",
        "    coords_y.append(ny)\n",
        "    queue.append([nx,ny])\n",
        "\n",
        "\n",
        "coords_x.sort()\n",
        "coords_y.sort(reverse=True)\n",
        "\n",
        "len_x = coords_x[-1] - coords_x[0] + 1\n",
        "len_y = coords_y[0] - coords_y[-1] + 1\n",
        "\n",
        "maze = [['#']*len_x for _ in range(len_y)] # x가 열의 역할을 하고, y가 행의 역할을 함\n",
        "\n",
        "while graph:\n",
        "  x, y = graph.popleft()\n",
        "  maze[abs(y-coords_y[0])][x-coords_x[0]] = '.' # 일반적으로는 위로 갈수록 y가 커지지만, 이 경우에는 아래로 갈수록 y가 커짐\n",
        "\n",
        "for i in range(len(maze)):\n",
        "  print(''.join(maze[i]))\n",
        "\n",
        "# 출력 양식 조심하기"
      ],
      "metadata": {
        "colab": {
          "base_uri": "https://localhost:8080/"
        },
        "id": "9o8qtWZ1OX5j",
        "outputId": "aa11c0fd-35c2-4e0f-bc4b-46b4225c2fba"
      },
      "execution_count": null,
      "outputs": [
        {
          "output_type": "stream",
          "name": "stdout",
          "text": [
            "31\n",
            "FRFFFFFFLLFRFFFFFLLFRFFFFLFFLFF\n",
            "######.\n",
            ".......\n",
            "#.#####\n",
            "#.#...#\n",
            "#.###.#\n",
            "#.....#\n",
            "#.#####\n"
          ]
        }
      ]
    },
    {
      "cell_type": "code",
      "source": [
        "# 1240 노드사이의 거리\n",
        "\n",
        "from collections import deque\n",
        "import sys\n",
        "\n",
        "input = sys.stdin.readline\n",
        "\n",
        "N, M = map(int ,input().split())\n",
        "\n",
        "graph = [[] for _ in range(N+1)]\n",
        "dic = {}\n",
        "pairs = []\n",
        "\n",
        "for _ in range(N-1):\n",
        "  vert1, vert2, dst = map(int, input().split())\n",
        "  graph[vert1].append(vert2)\n",
        "  graph[vert2].append(vert1)\n",
        "  dic[(vert1,vert2)], dic[(vert2,vert1)] = dst, dst # dictionary 자료형에 자료를 추가할 때는 왼쪽과 같은 문장을 사용함. list는 에러가 발생하지먄 tuple은 괜찮음.\n",
        "\n",
        "for _ in range(M):\n",
        "  pairs.append(list(map(int, input().split())))\n",
        "\n",
        "def cal_dst(lst):\n",
        "  start, end = lst\n",
        "\n",
        "  queue = deque([start])\n",
        "  visited = [0]*(N+1)\n",
        "  vert = 0\n",
        "\n",
        "  while queue:\n",
        "\n",
        "    vert = queue.popleft()\n",
        "\n",
        "    for v in graph[vert]:\n",
        "      if visited[v] == 0:\n",
        "        visited[v] = visited[vert] + dic[(v,vert)]\n",
        "        queue.append(v)\n",
        "\n",
        "    if vert == end:\n",
        "      return visited[vert]\n",
        "\n",
        "for pair in pairs:\n",
        "  print(cal_dst(pair))"
      ],
      "metadata": {
        "id": "VWmbFUSIz5e0",
        "colab": {
          "base_uri": "https://localhost:8080/"
        },
        "outputId": "245b64cc-7da1-416f-968a-f0274a9836ac"
      },
      "execution_count": null,
      "outputs": [
        {
          "output_type": "stream",
          "name": "stdout",
          "text": [
            "4 2\n",
            "2 1 2\n",
            "4 3 2\n",
            "1 4 3\n",
            "1 2\n",
            "3 2\n",
            "2\n",
            "7\n"
          ]
        }
      ]
    },
    {
      "cell_type": "code",
      "source": [
        "# 1245 농장 관리\n",
        "\n",
        "from collections import deque\n",
        "import sys\n",
        "\n",
        "input = sys.stdin.readline\n",
        "\n",
        "N, M = map(int, input().split())\n",
        "graph = [list(map(int, input().split())) for _ in range(N)]\n",
        "peaks = [[[0]*2 for _ in range(M)] for _ in range(N)]\n",
        "visited = [[0 for _ in range(M)] for _ in range(N)]\n",
        "\n",
        "# 각 node를 기준으로 산봉우리인지 아닌지를 판별함\n",
        "\n",
        "def determinant(sx,sy):\n",
        "  queue = deque([[sx,sy]])\n",
        "  dx_lst, dy_lst = [-1, -1, -1, 0, 0, 1, 1, 1], [-1, 0, 1, -1, 1, -1, 0, 1]\n",
        "  visited = [[0 for _ in range(M)] for _ in range(N)] # 새로운 노드에 대해서 산봉우리 여부를 판별할 때마다 방문기록 초기화\n",
        "\n",
        "  while queue:\n",
        "    x, y = queue.popleft()\n",
        "\n",
        "    for i in range(8):\n",
        "      nx, ny = x+dx_lst[i], y+dy_lst[i]\n",
        "\n",
        "      if (0 <= nx <= N-1) and (0 <= ny <= M-1) and (visited[nx][ny] == 0): # 한 번 방문한 노드는 다시 가지 않음\n",
        "        visited[nx][ny] = 1\n",
        "\n",
        "        if graph[x][y] < graph[nx][ny]:\n",
        "          peaks[x][y][1] = 1 # 산봉우리가 아닌 node를 표시\n",
        "          return 0\n",
        "\n",
        "        elif graph[x][y] == graph[nx][ny]:\n",
        "          queue.append([nx,ny])\n",
        "          peaks[nx][ny][0] = 1 # 산봉우리일 수도 있다는 것을 표시\n",
        "\n",
        "        else:\n",
        "          peaks[nx][ny][1] = 1 # 산봉우리가 아닌 node를 표시\n",
        "\n",
        "\n",
        "\n",
        "  return 1\n",
        "\n",
        "cnt = 0\n",
        "\n",
        "for i in range(N):\n",
        "  for j in range(M):\n",
        "    if (peaks[i][j][0] != 1) and (peaks[i][j][1] != 1): # 산봉우리 일 수도 있거나, 확실하게 산봉우리가 아닌 node는 고려하지 않음 (peaks[i][j][0] ==1 일 때, 산봉우리라면 이미 +1이 됐을 것이고 산봉우리가 아니라면 앞으로도 판별할 필요가 없기 때문)\n",
        "      cnt += determinant(i,j)\n",
        "\n",
        "print(cnt)"
      ],
      "metadata": {
        "colab": {
          "base_uri": "https://localhost:8080/"
        },
        "id": "FMxKpi-q7tNL",
        "outputId": "aa2c77f6-cde6-4b5a-d86d-1af80b01f078"
      },
      "execution_count": null,
      "outputs": [
        {
          "output_type": "stream",
          "name": "stdout",
          "text": [
            "2 2\n",
            "0 0\n",
            "0 0\n",
            "1\n"
          ]
        }
      ]
    },
    {
      "cell_type": "code",
      "source": [
        "# 1926 그림\n",
        "\n",
        "from collections import deque\n",
        "import sys\n",
        "\n",
        "input = sys.stdin.readline\n",
        "\n",
        "n, m = map(int, input().split())\n",
        "graph = [list(map(int, input().split())) for _ in range(n)]\n",
        "\n",
        "visited = [[0]*m for _ in range(n)]\n",
        "size = []\n",
        "\n",
        "def paint(sx,sy):\n",
        "\n",
        "  if (graph[sx][sy] == 0): return 0\n",
        "\n",
        "  size_each = 1\n",
        "\n",
        "  queue = deque([[sx,sy]])\n",
        "  visited[sx][sy] = 1\n",
        "  dx, dy = [-1,0,0,1], [0,-1,1,0]\n",
        "\n",
        "  while queue:\n",
        "    x, y = queue.popleft()\n",
        "\n",
        "    for i in range(4):\n",
        "      nx, ny = x+dx[i], y+dy[i]\n",
        "\n",
        "      if (0 <= nx <= n-1) and (0 <= ny <= m-1) and (visited[nx][ny] == 0): # 한 번 방문한 node는 다시 갈 필요가 없음\n",
        "        visited[nx][ny] = 1\n",
        "\n",
        "        if graph[nx][ny]:\n",
        "          queue.append([nx,ny])\n",
        "          size_each += 1 # 각 그림의 크기를 계산\n",
        "\n",
        "  size.append(size_each)\n",
        "\n",
        "  return 1\n",
        "\n",
        "cnt = 0\n",
        "\n",
        "for i in range(n):\n",
        "  for j in range(m):\n",
        "    if not visited[i][j]: # 이미 방문한 node는 그림이면 count가 됐을 것이고, 그림이 아니라면 count가 안됐겠지만 여전히 count를 할 필요가 없음. 따라서 경우에서 그냥 제외\n",
        "      cnt += paint(i,j)\n",
        "\n",
        "if cnt == 0:\n",
        "  print(0)\n",
        "  print(0)\n",
        "else:\n",
        "  print(cnt)\n",
        "  print(max(size))"
      ],
      "metadata": {
        "colab": {
          "base_uri": "https://localhost:8080/"
        },
        "id": "M37rc-irhihS",
        "outputId": "c423ea83-8353-45b5-a9a3-9c0926de4bba"
      },
      "execution_count": null,
      "outputs": [
        {
          "name": "stdout",
          "output_type": "stream",
          "text": [
            "6 5\n",
            "1 1 0 1 1\n",
            "0 1 1 0 0\n",
            "0 0 0 0 0\n",
            "1 0 1 1 1\n",
            "0 0 1 1 1\n",
            "0 0 1 1 1\n"
          ]
        }
      ]
    },
    {
      "cell_type": "code",
      "source": [
        "# 1707 이분 그래프\n",
        "\n",
        "from collections import deque\n",
        "import sys\n",
        "\n",
        "input = sys.stdin.readline\n",
        "\n",
        "K = int(input().split()[0])\n",
        "\n",
        "graph = []\n",
        "\n",
        "for i in range(K):\n",
        "  V, E = map(int, input().split())\n",
        "\n",
        "  graph.append([[] for _ in range(V+1)])\n",
        "\n",
        "  for _ in range(E):\n",
        "    vert1, vert2 = map(int, input().split())\n",
        "    graph[i][vert1].append(vert2)\n",
        "    graph[i][vert2].append(vert1)\n",
        "\n",
        "def bipartite(lst):\n",
        "  graph_loc = lst\n",
        "\n",
        "  if len(graph_loc) == 2: return('YES')\n",
        "\n",
        "  visited = [[0]*2 for _ in range(len(graph_loc))] # visited는 길이가 2인 리스트의 값을 1로 설정함으로써 각 노드가 어떤 집합에 속해 있는지를 나타냄\n",
        "  depth = [-1]*(len(graph_loc))\n",
        "\n",
        "  categ = [0,1]\n",
        "  depth[0], depth[1] = 0, 0\n",
        "  queue = deque([1])\n",
        "  visited[1][0] = 1 # 첫 노드는 visited의 값으로 [1,0]을 가짐\n",
        "\n",
        "  while queue:\n",
        "    vert = queue.popleft()\n",
        "\n",
        "    for v in graph_loc[vert]:\n",
        "\n",
        "      if not ((depth[vert] > depth[v] and (depth[v] != -1))):\n",
        "\n",
        "        if categ[depth[vert]%2]: # visited의 값으로 이전 노드가 [1,0]이면 [0,1]을, [0,1]이면 [1,0]을 가지도록 함\n",
        "          visited[v][0] = 1\n",
        "          queue.append(v)\n",
        "          depth[v] = depth[vert] + 1\n",
        "        else:\n",
        "          visited[v][1] = 1\n",
        "          queue.append(v)\n",
        "          depth[v] = depth[vert] + 1\n",
        "\n",
        "        if visited[v] == [1,1]: # 어떤 노드 v가 두 개의 집단에 모두 속하게 되는 경우를 나타냄. 즉 이분그래프의 규칙에 위반\n",
        "          return('NO')\n",
        "\n",
        "    if (len(queue) == 0) and (-1 in depth): # 그래프가 연속이 아닐 수도 있기 때문에, 불연속인 경우를 고려해주는 부분.\n",
        "      new_vert = depth.index(-1)            # 이웃이 없는 node만으로 이루어진 그래프에 대해서, 불연속인 다른 그래프가 있는지를 탐색하기 위해 for문 밖에 위치해야함\n",
        "      depth[new_vert] = 0\n",
        "      queue.append(new_vert)\n",
        "\n",
        "  return('YES')\n",
        "\n",
        "for i in range(K):\n",
        "  print(bipartite(graph[i]))"
      ],
      "metadata": {
        "colab": {
          "base_uri": "https://localhost:8080/"
        },
        "id": "KIw6Hnfu11NJ",
        "outputId": "71c9836c-7030-401b-85ce-ee27f062fc0c"
      },
      "execution_count": null,
      "outputs": [
        {
          "output_type": "stream",
          "name": "stdout",
          "text": [
            "1\n",
            "4 3\n",
            "2 3\n",
            "3 4\n",
            "4 2\n",
            "NO\n"
          ]
        }
      ]
    }
  ]
}