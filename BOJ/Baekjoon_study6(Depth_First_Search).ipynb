{
  "nbformat": 4,
  "nbformat_minor": 0,
  "metadata": {
    "colab": {
      "provenance": [],
      "authorship_tag": "ABX9TyOeGlBamHEGoV0yI7mNKSd2",
      "include_colab_link": true
    },
    "kernelspec": {
      "name": "python3",
      "display_name": "Python 3"
    },
    "language_info": {
      "name": "python"
    }
  },
  "cells": [
    {
      "cell_type": "markdown",
      "metadata": {
        "id": "view-in-github",
        "colab_type": "text"
      },
      "source": [
        "<a href=\"https://colab.research.google.com/github/Hyeonglae-Cho/Coding_Study/blob/main/BOJ/Baekjoon_study6(Depth_First_Search).ipynb\" target=\"_parent\"><img src=\"https://colab.research.google.com/assets/colab-badge.svg\" alt=\"Open In Colab\"/></a>"
      ]
    },
    {
      "cell_type": "code",
      "source": [
        "# 1325 효율적인 해킹 (version 1)\n",
        "\n",
        "import sys\n",
        "\n",
        "input = sys.stdin.readline\n",
        "\n",
        "N, M = map(int, input().split())\n",
        "graph = [[] for _ in range(N+1)]\n",
        "rst = [0]*(N+1)\n",
        "parents = []\n",
        "\n",
        "for _ in range(M):\n",
        "  vert1, vert2 = map(int, input().split())\n",
        "  graph[vert2].append(vert1)\n",
        "  parents.append(vert2)\n",
        "\n",
        "def hack(R):\n",
        "\n",
        "  visited = [0]*(N+1)\n",
        "  queue = []\n",
        "  queue.append(R)\n",
        "  cnt = -1\n",
        "\n",
        "  while queue:\n",
        "    vert = queue.pop()\n",
        "\n",
        "    if visited[vert] != 0 and rst[vert] != 0:\n",
        "      cnt += rst[vert]\n",
        "      continue\n",
        "\n",
        "    cnt += 1\n",
        "    visited[vert] = cnt\n",
        "\n",
        "    for v in graph[vert]:\n",
        "      if not visited[v]:\n",
        "        queue.append(v)\n",
        "\n",
        "  return cnt\n",
        "\n",
        "for i in list(set(parents)):\n",
        "\n",
        "  rst[i] = hack(i)\n",
        "\n",
        "max = max(rst)\n",
        "\n",
        "for i in len(1,N+1):\n",
        "  if max == rst[i]:\n",
        "    print(i, end=' ')"
      ],
      "metadata": {
        "id": "zX8STrZjzlnD"
      },
      "execution_count": null,
      "outputs": []
    },
    {
      "cell_type": "code",
      "source": [
        "# 1325 효율적인 해킹 (version 2)\n",
        "\n",
        "from collections import deque\n",
        "import sys\n",
        "\n",
        "input = sys.stdin.readline\n",
        "\n",
        "N, M = map(int, input().split())\n",
        "graph = [[] for _ in range(N+1)]\n",
        "\n",
        "for _ in range(M):\n",
        "  child, parent = map(int, input().split())\n",
        "  graph[parent].append(child)\n",
        "\n",
        "def hack(start):\n",
        "  visited = [0]*(N+1)\n",
        "  queue = deque([start])\n",
        "  cnt = 0\n",
        "\n",
        "  while queue:\n",
        "    vert = queue.popleft()\n",
        "\n",
        "    for v in graph[vert]:\n",
        "      if not visited[v]:\n",
        "        queue.append(v)\n",
        "        visited[v] = 1\n",
        "        cnt += 1\n",
        "\n",
        "  return cnt\n",
        "\n",
        "rst = []\n",
        "\n",
        "for i in range(1,N+1):\n",
        "  rst.append(hack(i))\n",
        "\n",
        "for i in range(len(rst)):\n",
        "  if max(rst) == rst[i]:\n",
        "    print(i+1, end= ' ')"
      ],
      "metadata": {
        "id": "JeYcPEggJrw5"
      },
      "execution_count": null,
      "outputs": []
    },
    {
      "cell_type": "code",
      "source": [
        "# 2210 숫자판 점프 (재귀함수를 안쓰면 진짜 많이 복잡해짐. 재귀함수 활용 제대로 익히기)\n",
        "\n",
        "import sys\n",
        "input = sys.stdin.readline\n",
        "\n",
        "graph = [list(map(str, input().split())) for _ in range(5)]\n",
        "\n",
        "def dfs(R, num):\n",
        "\n",
        "  x, y = R\n",
        "\n",
        "  if len(num) == 6:\n",
        "\n",
        "    if num not in rst:\n",
        "      rst.append(num)\n",
        "\n",
        "    return\n",
        "\n",
        "  for dx, dy in zip([-1,0,0,1],[0,-1,1,0]):\n",
        "    nx, ny = x+dx, y+dy\n",
        "\n",
        "    if (0 <= nx <= 4) and (0 <= ny <= 4):\n",
        "      dfs([nx,ny], num + graph[nx][ny])\n",
        "\n",
        "rst = []\n",
        "\n",
        "for i in range(5):\n",
        "  for j in range(5):\n",
        "    dfs([i,j],graph[i][j])\n",
        "\n",
        "print(len(rst))"
      ],
      "metadata": {
        "id": "rc3_y1Htjgrl"
      },
      "execution_count": 61,
      "outputs": []
    },
    {
      "cell_type": "code",
      "source": [
        "# 1189 컴백홈\n",
        "\n",
        "import sys\n",
        "\n",
        "input = sys.stdin.readline\n",
        "\n",
        "R, C, K = map(int, input().split())\n",
        "graph = [input() for _ in range(R)]\n",
        "rst = []\n",
        "\n",
        "def Dfs(start,route):\n",
        "\n",
        "  x,y = start\n",
        "\n",
        "  if len(route) == K:\n",
        "\n",
        "    if [x,y] == [0,C-1]:\n",
        "      rst.append(1)\n",
        "\n",
        "    return\n",
        "\n",
        "  for dx, dy in zip([-1,0,0,1],[0,-1,1,0]):\n",
        "    nx, ny = x+dx, y+dy\n",
        "\n",
        "    if (0 <= nx <= R-1) and (0 <= ny <= C-1):\n",
        "\n",
        "      if ([nx,ny] not in route) and (graph[nx][ny] != 'T'):\n",
        "        new_route = route + [[nx,ny]] # route라는 이름을 정의하고 (route.append() or route = route + [[nx,ny]]) 함수의 input으로 사용하면 재귀함수 내에서 route를 global 변수로 인식해서 문제가 생김\n",
        "        Dfs([nx,ny], new_route) # 따라서, new_route를 정의해서 사용하거나 Dfs([nx,ny], route +[[nx,ny]])와 같이 route를 전혀 정의하지 않고 사용해야 함\n",
        "\n",
        "Dfs([R-1,0],[[R-1,0]])\n",
        "print(len(rst))"
      ],
      "metadata": {
        "colab": {
          "base_uri": "https://localhost:8080/"
        },
        "id": "LcglSRT9jnNI",
        "outputId": "debc6894-2a22-41c1-bd42-f7e88aa38269"
      },
      "execution_count": 1,
      "outputs": [
        {
          "name": "stdout",
          "output_type": "stream",
          "text": [
            "3 4 6\n",
            "....\n",
            ".T..\n",
            "....\n"
          ]
        }
      ]
    },
    {
      "cell_type": "code",
      "source": [],
      "metadata": {
        "colab": {
          "base_uri": "https://localhost:8080/"
        },
        "id": "VAKmuyZxh7lA",
        "outputId": "a550354a-f438-497f-f456-87b8f068715c"
      },
      "execution_count": 45,
      "outputs": [
        {
          "name": "stdout",
          "output_type": "stream",
          "text": [
            "5 7 3\n"
          ]
        }
      ]
    },
    {
      "cell_type": "code",
      "source": [
        "# 2583 영역 구하기 (답은 잘 맞췄으나, sys.setrecursionlimit() 함수 이용하는걸 까먹음. 재귀함수를 사용할 때는 꼭 사용하기. 추가적으로, 이 문제에서는 최대 10000개의 노드에 대해 4개의 방향이 있기 때문에 40000으로 해주면 런타임에러가 발생하지 않음)\n",
        "\n",
        "import sys\n",
        "\n",
        "input = sys.stdin.readline\n",
        "sys.setrecursionlimit(40000)\n",
        "\n",
        "N, M, K = map(int, input().split())\n",
        "\n",
        "graph = [[0]*M for _ in range(N)]\n",
        "\n",
        "for _ in range(K):\n",
        "  x1,y1,x2,y2 = map(int, input().split())\n",
        "  for x in range(x1,x2):\n",
        "    for y in range(y1,y2):\n",
        "      graph[N-1-y][x] = 1\n",
        "\n",
        "def Dfs(R):\n",
        "\n",
        "  global cnt\n",
        "\n",
        "  x, y = R\n",
        "\n",
        "  if visited[y][x] != 0:\n",
        "    return\n",
        "\n",
        "  cnt += 1\n",
        "  visited[y][x] = 1\n",
        "\n",
        "  for dx,dy in zip([-1,0,0,1],[0,-1,1,0]):\n",
        "    nx, ny = x+dx, y+dy\n",
        "\n",
        "    if (0 <= nx <= M-1) and (0 <= ny <= N-1):\n",
        "      if (visited[ny][nx] == 0) and (graph[ny][nx] == 0):\n",
        "        Dfs([nx,ny])\n",
        "\n",
        "visited = [[0]*(M) for _ in range(N)]\n",
        "rst = []\n",
        "\n",
        "# Graph를 만들 때 좌표 변환을 해서 만들었기 때문에, 이 위에서 탐색할 때는, 좌표 변환 안해도 괜찮음 (하건 안 하건 정답임)\n",
        "\n",
        "for i in range(N):\n",
        "\n",
        "  for j in range(M):\n",
        "\n",
        "    if graph[N-1-i][j] == 0 and visited[N-1-i][j] == 0:\n",
        "      cnt = 0\n",
        "      Dfs([j,N-1-i])\n",
        "      rst.append(cnt)\n",
        "\n",
        "rst.sort()\n",
        "print(len(rst))\n",
        "print(*rst)"
      ],
      "metadata": {
        "colab": {
          "base_uri": "https://localhost:8080/"
        },
        "id": "gDvzWEdeisHB",
        "outputId": "26887a2a-a0e5-401f-e261-fbc1d6820670"
      },
      "execution_count": 90,
      "outputs": [
        {
          "output_type": "stream",
          "name": "stdout",
          "text": [
            "5 7 3\n",
            "0 2 4 4\n",
            "1 1 2 5\n",
            "4 0 6 2\n",
            "3\n",
            "1 7 13\n"
          ]
        }
      ]
    }
  ]
}