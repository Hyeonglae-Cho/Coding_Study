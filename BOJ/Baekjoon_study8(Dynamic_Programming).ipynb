{
  "nbformat": 4,
  "nbformat_minor": 0,
  "metadata": {
    "colab": {
      "provenance": [],
      "authorship_tag": "ABX9TyOKqKWN4Pzqh6RxV5cYNUbA",
      "include_colab_link": true
    },
    "kernelspec": {
      "name": "python3",
      "display_name": "Python 3"
    },
    "language_info": {
      "name": "python"
    }
  },
  "cells": [
    {
      "cell_type": "markdown",
      "metadata": {
        "id": "view-in-github",
        "colab_type": "text"
      },
      "source": [
        "<a href=\"https://colab.research.google.com/github/Hyeonglae-Cho/Coding_Study/blob/main/BOJ/Baekjoon_study8(Dynamic_Programming).ipynb\" target=\"_parent\"><img src=\"https://colab.research.google.com/assets/colab-badge.svg\" alt=\"Open In Colab\"/></a>"
      ]
    },
    {
      "cell_type": "code",
      "execution_count": null,
      "metadata": {
        "colab": {
          "base_uri": "https://localhost:8080/"
        },
        "id": "9oFi6-1xqo9B",
        "outputId": "1eeb25be-e101-45d3-cc73-b7ce69029e29"
      },
      "outputs": [
        {
          "output_type": "stream",
          "name": "stdout",
          "text": [
            "1\n",
            "-1\n"
          ]
        }
      ],
      "source": [
        "# 2839 설탕 배달\n",
        "\n",
        "N = int(input())\n",
        "\n",
        "rst = [-1]*(5001)\n",
        "rst[3] = rst[5] = 1\n",
        "\n",
        "for i in range(6,N+1):\n",
        "\n",
        "  if i % 5 == 0:\n",
        "    rst[i] = rst[i-5] + 1\n",
        "\n",
        "  elif i % 3 == 0:\n",
        "    rst[i] = rst[i-3] + 1\n",
        "\n",
        "  elif rst[i-3] > 0 and rst[i-5] > 0:\n",
        "    rst[i] = min(rst[i-3],rst[i-5]) + 1\n",
        "\n",
        "  elif rst[i-3] > 0:\n",
        "    rst[i] = rst[i-3] + 1\n",
        "\n",
        "  elif rst[i-5] > 0:\n",
        "    rst[i] = rst[i-5] + 1\n",
        "\n",
        "print(rst[N])"
      ]
    },
    {
      "cell_type": "code",
      "source": [
        "# 1463 1로 만들기\n",
        "\n",
        "N = int(input())\n",
        "\n",
        "rst = [0]*(N+1)\n",
        "\n",
        "for i in range(2,N+1):\n",
        "\n",
        "  if i % 6 == 0:\n",
        "    rst[i] = min(rst[i//3],rst[i//2],rst[i-1]) + 1\n",
        "\n",
        "  elif i % 3 == 0:\n",
        "    rst[i] = min(rst[i//3],rst[i-1]) + 1\n",
        "\n",
        "  elif i % 2 != 0:\n",
        "    rst[i] = rst[i-1] + 1\n",
        "\n",
        "  else:\n",
        "    rst[i] = min(rst[i//2],rst[i-1]) + 1\n",
        "\n",
        "print(rst[N])"
      ],
      "metadata": {
        "colab": {
          "base_uri": "https://localhost:8080/"
        },
        "id": "lgmqNx6VDT7B",
        "outputId": "23d46bf9-3d46-4145-f528-b7fca869bac7"
      },
      "execution_count": null,
      "outputs": [
        {
          "output_type": "stream",
          "name": "stdout",
          "text": [
            "642\n",
            "10\n"
          ]
        }
      ]
    },
    {
      "cell_type": "code",
      "source": [
        "# 1003 피보나치 함수\n",
        "\n",
        "import sys\n",
        "\n",
        "input = sys.stdin.readline\n",
        "\n",
        "T = int(input().split()[0])\n",
        "\n",
        "nums = []\n",
        "for _ in range(T):\n",
        "  nums.append(int(input().split()[0]))\n",
        "\n",
        "def f(n):\n",
        "\n",
        "  for i in range(0,n+1):\n",
        "    if i == 0:\n",
        "      rst[i] = [1,0]\n",
        "\n",
        "    elif i == 1:\n",
        "      rst[i] = [0,1]\n",
        "\n",
        "    else:\n",
        "      rst[i] = [rst[i-1][0] + rst[i-2][0],rst[i-1][1] + rst[i-2][1]]\n",
        "\n",
        "for num in nums:\n",
        "  rst = [[0]*2 for _ in range(num+1)]\n",
        "\n",
        "  f(num)\n",
        "  print(*rst[num])"
      ],
      "metadata": {
        "id": "ulErYyZjhzFO"
      },
      "execution_count": 15,
      "outputs": []
    },
    {
      "cell_type": "code",
      "source": [
        "# 11053 가장 긴 증가하는 부분수열\n",
        "\n",
        "import sys\n",
        "\n",
        "#input = sys.stdin.readline\n",
        "\n",
        "N = int(input().split()[0])\n",
        "A = list(map(int, input().split()))\n",
        "\n",
        "def f(seq):\n",
        "\n",
        "  for i in range(len(seq)):\n",
        "    if i == 0:\n",
        "      rst[i].append(seq[i])\n",
        "      length[i] = 1\n",
        "\n",
        "    else:\n",
        "      for j in range(i-1,-1,-1):\n",
        "\n",
        "        if seq[i] < seq[j]:\n",
        "          if length[i] == 0: # 가까운 쪽에서 먼저 아래의 조건을 만족하면 시행하면 안됨\n",
        "            rst[i] = [seq[i]]\n",
        "            length[i] = 1\n",
        "\n",
        "        elif seq[i] == seq[j]:\n",
        "          if length[i] == 0: # 가까운 쪽에서 먼저 이 조건문이나 아래 조건문을 시행했으면 시행하면 안됨\n",
        "            rst[i] = rst[j]\n",
        "            length[i] = length[j]\n",
        "            continue\n",
        "\n",
        "        elif seq[i] > seq[j]:\n",
        "\n",
        "          if length[i] - 1 < length[j]: # 증가하는 경우에는 길이를 비교해서 가장 긴 길이를 가지는 수열에 값을 추가함\n",
        "            rst[i] = rst[j] + [seq[i]]\n",
        "            length[i] = length[j] + 1\n",
        "\n",
        "rst = [[] for _ in range(N)]\n",
        "length = [0]*N\n",
        "\n",
        "f(A)\n",
        "\n",
        "print(max(length))"
      ],
      "metadata": {
        "colab": {
          "base_uri": "https://localhost:8080/"
        },
        "id": "8_Ms4ejbh1oC",
        "outputId": "bc44f40e-b4bc-4b7e-bb71-3cbd22d4f8a3"
      },
      "execution_count": 93,
      "outputs": [
        {
          "output_type": "stream",
          "name": "stdout",
          "text": [
            "7\n",
            "70 30 50 60 70 1 10\n",
            "4\n"
          ]
        }
      ]
    },
    {
      "cell_type": "code",
      "source": [
        "# 1149 RGB거리\n",
        "\n",
        "import sys\n",
        "\n",
        "input = sys.stdin.readline\n",
        "\n",
        "N = int(input().split()[0])\n",
        "\n",
        "costs = [list(map(int, input().split())) for _ in range(N)]\n",
        "\n",
        "def f(lst):\n",
        "\n",
        "  for i in range(len(lst)):\n",
        "\n",
        "    if i == 0:\n",
        "      rst[i] = lst[i]\n",
        "\n",
        "    else:\n",
        "      rst[i].append(lst[i][0] + min(rst[i-1][1],rst[i-1][2]))\n",
        "      rst[i].append(lst[i][1] + min(rst[i-1][0],rst[i-1][2]))\n",
        "      rst[i].append(lst[i][2] + min(rst[i-1][0],rst[i-1][1]))\n",
        "\n",
        "rst = [[] for _ in range(N)]\n",
        "f(costs)\n",
        "print(min(rst[-1]))\n",
        "\n",
        "# 3개의 문에 대해서 앞 문과의 관계를 고려해서 각 문을 골랐을 때의 minimum costs를 계속해서 계산\n",
        "# 이렇게 하면 모든 문에 대해서 각 문을 골랐을 때의 minimum costs를 이전 문들을 고려해서 계산 가능"
      ],
      "metadata": {
        "colab": {
          "base_uri": "https://localhost:8080/"
        },
        "id": "twbC2di1NQwe",
        "outputId": "98cd9f23-039d-4310-c159-d9d686b79aa9"
      },
      "execution_count": 94,
      "outputs": [
        {
          "name": "stdout",
          "output_type": "stream",
          "text": [
            "3\n",
            "26 40 83\n",
            "49 60 57\n",
            "13 89 99\n"
          ]
        }
      ]
    },
    {
      "cell_type": "code",
      "source": [
        "# 1932 정수 삼각형\n",
        "\n",
        "import sys\n",
        "\n",
        "input = sys.stdin.readline\n",
        "\n",
        "N = int(input().split()[0])\n",
        "tgl = [list(map(int, input().split())) for _ in range(N)]\n",
        "\n",
        "def f(lst):\n",
        "\n",
        "  for i in range(len(lst)):\n",
        "\n",
        "    if i == 0:\n",
        "      rst[i] = lst[i]\n",
        "\n",
        "    else:\n",
        "      for j in range(i+1):\n",
        "        if j == 0:\n",
        "          rst[i].append(lst[i][j] + rst[i-1][0])\n",
        "\n",
        "        elif j == i:\n",
        "          rst[i].append(lst[i][j] + rst[i-1][-1])\n",
        "\n",
        "        else:\n",
        "          rst[i].append(lst[i][j] + max(rst[i-1][j-1],rst[i-1][j]))\n",
        "\n",
        "rst = [[] for _ in range(N)]\n",
        "f(tgl)\n",
        "print(max(rst[-1]))"
      ],
      "metadata": {
        "colab": {
          "base_uri": "https://localhost:8080/"
        },
        "id": "rlnEd6JkWp0t",
        "outputId": "5c57d339-5375-4da5-caec-aae49103919d"
      },
      "execution_count": 1,
      "outputs": [
        {
          "output_type": "stream",
          "name": "stdout",
          "text": [
            "5\n",
            "7\n",
            "3 8\n",
            "8 1 0\n",
            "2 7 4 4\n",
            "4 5 2 6 5\n",
            "30\n"
          ]
        }
      ]
    }
  ]
}