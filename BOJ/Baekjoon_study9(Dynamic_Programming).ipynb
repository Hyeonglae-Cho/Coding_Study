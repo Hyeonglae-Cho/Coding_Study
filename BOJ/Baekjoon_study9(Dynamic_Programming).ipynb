{
  "nbformat": 4,
  "nbformat_minor": 0,
  "metadata": {
    "colab": {
      "provenance": [],
      "authorship_tag": "ABX9TyOC+quwzhBd8Pkk6+jOcwMU",
      "include_colab_link": true
    },
    "kernelspec": {
      "name": "python3",
      "display_name": "Python 3"
    },
    "language_info": {
      "name": "python"
    }
  },
  "cells": [
    {
      "cell_type": "markdown",
      "metadata": {
        "id": "view-in-github",
        "colab_type": "text"
      },
      "source": [
        "<a href=\"https://colab.research.google.com/github/Hyeonglae-Cho/Coding_Study/blob/main/BOJ/Baekjoon_study9(Dynamic_Programming).ipynb\" target=\"_parent\"><img src=\"https://colab.research.google.com/assets/colab-badge.svg\" alt=\"Open In Colab\"/></a>"
      ]
    },
    {
      "cell_type": "code",
      "execution_count": null,
      "metadata": {
        "colab": {
          "base_uri": "https://localhost:8080/"
        },
        "id": "6_Qbc-67zogt",
        "outputId": "5a9feaa9-6180-4291-c479-4b0074241e21"
      },
      "outputs": [
        {
          "name": "stdout",
          "output_type": "stream",
          "text": [
            "10\n",
            "10 -4 3 1 5 6 -35 12 21 -1\n"
          ]
        }
      ],
      "source": [
        "# 1912 연속합\n",
        "\n",
        "n = int(input().split()[0])\n",
        "nums = list(map(int, input().split()))\n",
        "\n",
        "def f(lst):\n",
        "\n",
        "  for i in range(n):\n",
        "\n",
        "    if i == 0:\n",
        "      rst.append(lst[i])\n",
        "\n",
        "    else:\n",
        "      rst.append(lst[i] + max(rst[i-1],0))\n",
        "\n",
        "rst = []\n",
        "f(nums)\n",
        "print(max(rst))"
      ]
    },
    {
      "cell_type": "code",
      "source": [
        "# 2156 포도주 시식\n",
        "\n",
        "import sys\n",
        "\n",
        "input = sys.stdin.readline\n",
        "\n",
        "n = int(input().split()[0])\n",
        "\n",
        "seq = [int(input().split()[0]) for _ in range(n)]\n",
        "\n",
        "def f(lst):\n",
        "\n",
        "  for i in range(n):\n",
        "\n",
        "    if i == 0:\n",
        "      rst.append(lst[i])\n",
        "\n",
        "    elif i == 1:\n",
        "      rst.append(lst[i] + lst[i-1])\n",
        "\n",
        "    elif i == 2:\n",
        "      rst.append(max(lst[i] + lst[i-1], lst[i] + lst[i-2], rst[i-1]))\n",
        "\n",
        "    else:\n",
        "      rst.append(max(lst[i] + rst[i-2], lst[i] + lst[i-1] + rst[i-3], rst[i-1]))\n",
        "\n",
        "rst = []\n",
        "f(seq)\n",
        "print(max(rst))"
      ],
      "metadata": {
        "colab": {
          "base_uri": "https://localhost:8080/"
        },
        "id": "NkEYryCv6LoK",
        "outputId": "c25a2a1b-c5bb-40d1-abae-c9e083c3c859"
      },
      "execution_count": 11,
      "outputs": [
        {
          "output_type": "stream",
          "name": "stdout",
          "text": [
            "3\n",
            "10\n",
            "1\n",
            "10\n",
            "11\n"
          ]
        }
      ]
    },
    {
      "cell_type": "code",
      "source": [
        "# 10844 쉬운 계단 수\n",
        "\n",
        "import sys\n",
        "\n",
        "input = sys.stdin.readline\n",
        "\n",
        "N = int(input().split()[0])\n",
        "\n",
        "rst = [[0]*10 for _ in range(N+1)]\n",
        "rst[1] = [0,1,1,1,1,1,1,1,1,1]\n",
        "\n",
        "for i in range(2,N+1):\n",
        "  rst[i][0] = rst[i-1][1]\n",
        "  rst[i][9] = rst[i-1][8]\n",
        "\n",
        "  for j in range(1,9):\n",
        "    rst[i][j] = rst[i-1][j-1] + rst[i-1][j+1]\n",
        "\n",
        "print(sum(rst[N])%(10**9))"
      ],
      "metadata": {
        "colab": {
          "base_uri": "https://localhost:8080/"
        },
        "id": "zWNiMcF2OPTY",
        "outputId": "c96ab002-d9ba-4270-83b5-4dd22f31b51d"
      },
      "execution_count": 51,
      "outputs": [
        {
          "output_type": "stream",
          "name": "stdout",
          "text": [
            "2\n",
            "17\n"
          ]
        }
      ]
    },
    {
      "cell_type": "code",
      "source": [
        "# 9465 스티커\n",
        "\n",
        "import sys\n",
        "\n",
        "input = sys.stdin.readline\n",
        "\n",
        "T = int(input().split()[0])\n",
        "\n",
        "cases = [[] for _ in range(T)]\n",
        "\n",
        "for i in range(T):\n",
        "  n = int(input().split()[0])\n",
        "\n",
        "  row1 = map(int, input().split())\n",
        "  row2 = map(int, input().split())\n",
        "\n",
        "  for r1, r2 in zip(row1, row2):\n",
        "    cases[i].append([r1,r2])\n",
        "\n",
        "rst = [[] for _ in range(T)]\n",
        "\n",
        "for i in range(T):\n",
        "\n",
        "  for j in range(len(cases[i])):\n",
        "\n",
        "    if j == 0:\n",
        "      rst[i].append(cases[i][j])\n",
        "\n",
        "    elif j == 1:\n",
        "      rst[i].append([cases[i][j][0] + cases[i][j-1][1],cases[i][j][1] + cases[i][j-1][0]])\n",
        "\n",
        "    else:\n",
        "      rst[i].append([cases[i][j][0] + max(rst[i][j-1][1],max(rst[i][j-2])),cases[i][j][1] + max(rst[i][j-1][0],max(rst[i][j-2]))])\n",
        "\n",
        "for i in range(T):\n",
        "  print(max(rst[i][-1]))"
      ],
      "metadata": {
        "colab": {
          "base_uri": "https://localhost:8080/"
        },
        "id": "znNMEcKIeT4P",
        "outputId": "d0ec8346-1f58-4c7f-be64-767077a23ffa"
      },
      "execution_count": 53,
      "outputs": [
        {
          "name": "stdout",
          "output_type": "stream",
          "text": [
            "2\n"
          ]
        }
      ]
    },
    {
      "cell_type": "code",
      "source": [
        "# 11052 카드 구매하기\n",
        "\n",
        "import sys\n",
        "input = sys.stdin.readline\n",
        "\n",
        "N = int(input().split()[0])\n",
        "p = [0] + list(map(int,input().split()))\n",
        "\n",
        "rst = [0]*(N+1)\n",
        "\n",
        "for i in range(1,N+1):\n",
        "\n",
        "  if i == 1:\n",
        "    rst[1] = p[1]\n",
        "\n",
        "  else:\n",
        "    tmp = []\n",
        "\n",
        "    for j in range(1,i//2+1):\n",
        "      tmp.append(rst[j]+rst[i-j])\n",
        "\n",
        "    tmp.append(p[i])\n",
        "    rst[i] = (max(tmp))\n",
        "\n",
        "print(rst[-1])"
      ],
      "metadata": {
        "colab": {
          "base_uri": "https://localhost:8080/"
        },
        "id": "jCG5XEslo-hA",
        "outputId": "5882008f-2fa9-4880-f54c-f78cd0ebb3d6"
      },
      "execution_count": 90,
      "outputs": [
        {
          "output_type": "stream",
          "name": "stdout",
          "text": [
            "10\n",
            "5 10 11 12 13 30 35 40 45 47\n",
            "50\n"
          ]
        }
      ]
    },
    {
      "cell_type": "code",
      "source": [
        "# 11660 구간 합 구하기 5\n",
        "\n",
        "import sys\n",
        "input = sys.stdin.readline\n",
        "\n",
        "N,M = map(int,input().split())\n",
        "table = [list(map(int,input().split())) for _ in range(N)]\n",
        "\n",
        "coords = []\n",
        "for _ in range(M):\n",
        "  x1,y1,x2,y2 = map(int,input().split())\n",
        "  coords.append([[x1-1,y1-1],[x2-1,y2-1]])\n",
        "\n",
        "rst = [[0]*N for _ in range(N)]\n",
        "\n",
        "for i in range(N):\n",
        "\n",
        "  if i == 0:\n",
        "    for j in range(N):\n",
        "      if j == 0:\n",
        "        rst[i][j] = table[i][j]\n",
        "\n",
        "      else:\n",
        "        rst[i][j] = rst[i][j-1] + table[i][j]\n",
        "\n",
        "  else:\n",
        "    for j in range(N):\n",
        "      if j == 0:\n",
        "        rst[i][j] = rst[i-1][j] + table[i][j]\n",
        "\n",
        "      else:\n",
        "        rst[i][j] = rst[i-1][j] + rst[i][j-1] - rst[i-1][j-1] + table[i][j]\n",
        "\n",
        "sums = []\n",
        "\n",
        "for coord in coords:\n",
        "\n",
        "  coord1, coord2 = coord\n",
        "  x1,y1 = coord1\n",
        "  x2,y2 = coord2\n",
        "\n",
        "  if x1 > 0 and y1 > 0:\n",
        "    sums.append(rst[x2][y2] - rst[x1-1][y2] - rst[x2][y1-1] + rst[x1-1][y1-1])\n",
        "\n",
        "  elif x1 > 0:\n",
        "    sums.append(rst[x2][y2] - rst[x1-1][y2])\n",
        "\n",
        "  elif y1 > 0:\n",
        "    sums.append(rst[x2][y2] - rst[x2][y1-1])\n",
        "\n",
        "  else:\n",
        "    sums.append(rst[x2][y2])\n",
        "\n",
        "for i in sums:\n",
        "  print(i)"
      ],
      "metadata": {
        "colab": {
          "base_uri": "https://localhost:8080/"
        },
        "id": "_mG8KWV4pCT3",
        "outputId": "addfafd8-2611-4aa5-fbf4-4a5ebe1f0f1a"
      },
      "execution_count": 115,
      "outputs": [
        {
          "name": "stdout",
          "output_type": "stream",
          "text": [
            "2 4\n",
            "1 2\n",
            "3 4\n",
            "1 1 1 1\n",
            "1 2 1 2\n",
            "2 1 2 1\n",
            "2 2 2 2\n"
          ]
        }
      ]
    },
    {
      "cell_type": "code",
      "source": [
        "# 12865 평범한 배낭\n",
        "# 중복이 없이 모든 경우를 고려해야됨\n",
        "# 따라서, 2차원 리스트를 만들어서 행별로 물건을 추가하는 상황을 고려\n",
        "# 여기서 열은 무게의 역할을 함\n",
        "# 각 행은 자신을 포함하여 위에 위치한 행의 물건들만을 이용해서 가치를 계산함\n",
        "# 자기자신의 무게보다 커지는 경우에는 이전 물건들의 무게의 합으로 무게를 맞춰서 최대 가치 계산\n",
        "# 다음 행에서 이렇게 계산된 가치를 이용하기 때문에 모든 합의 경우를 고려 가능\n",
        "\n",
        "import sys\n",
        "input = sys.stdin.readline\n",
        "\n",
        "N,K = map(int,input().split())\n",
        "\n",
        "wv = [[0,0]]\n",
        "for _ in range(N):\n",
        "  wv.append(list(map(int,input().split())))\n",
        "\n",
        "values = [[0]*(K+1) for _ in range(N+1)]\n",
        "\n",
        "for i in range(1,N+1):\n",
        "  weight,value = wv[i]\n",
        "\n",
        "  for j in range(1,K+1):\n",
        "\n",
        "    if j < weight:\n",
        "      values[i][j] = values[i-1][j]\n",
        "\n",
        "    else:\n",
        "      values[i][j] = max(values[i-1][j],value + values[i-1][j-weight])\n",
        "\n",
        "print(values[N][K])"
      ],
      "metadata": {
        "colab": {
          "base_uri": "https://localhost:8080/"
        },
        "id": "Rw55y7AfKX9e",
        "outputId": "01202caa-9292-42bd-90fa-8a195a68071e"
      },
      "execution_count": 145,
      "outputs": [
        {
          "name": "stdout",
          "output_type": "stream",
          "text": [
            "4 7\n",
            "6 13\n",
            "4 8\n",
            "3 6\n",
            "5 12\n"
          ]
        }
      ]
    }
  ]
}