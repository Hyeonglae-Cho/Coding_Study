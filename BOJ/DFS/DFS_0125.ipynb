{
  "nbformat": 4,
  "nbformat_minor": 0,
  "metadata": {
    "colab": {
      "provenance": [],
      "authorship_tag": "ABX9TyMKj+5Fxfw+1wv9eQQWpB9F",
      "include_colab_link": true
    },
    "kernelspec": {
      "name": "python3",
      "display_name": "Python 3"
    },
    "language_info": {
      "name": "python"
    }
  },
  "cells": [
    {
      "cell_type": "markdown",
      "metadata": {
        "id": "view-in-github",
        "colab_type": "text"
      },
      "source": [
        "<a href=\"https://colab.research.google.com/github/Hyeonglae-Cho/Coding_Study/blob/main/BOJ/DFS/DFS_0125.ipynb\" target=\"_parent\"><img src=\"https://colab.research.google.com/assets/colab-badge.svg\" alt=\"Open In Colab\"/></a>"
      ]
    },
    {
      "cell_type": "code",
      "execution_count": null,
      "metadata": {
        "id": "r1t-IKz47UX_"
      },
      "outputs": [],
      "source": [
        "# 1012\n",
        "\n",
        "import sys\n",
        "input = sys.stdin.readline\n",
        "sys.setrecursionlimit(10000)\n",
        "\n",
        "def DFS(R):\n",
        "\n",
        "  x, y = R\n",
        "\n",
        "  if (visited[y][x] == 0) and (graph[y][x] == 1):\n",
        "\n",
        "    visited[y][x] = 1\n",
        "\n",
        "    for dx, dy in zip([-1,0,0,1],[0,1,-1,0]):\n",
        "      nx, ny = x+dx, y+dy\n",
        "\n",
        "      if (0 <= nx <= M-1) and (0 <= ny <= N-1):\n",
        "        DFS([nx,ny])\n",
        "\n",
        "    return 1\n",
        "\n",
        "T = int(input())\n",
        "rst = []\n",
        "\n",
        "for _ in range(T):\n",
        "  M, N, K = map(int, input().split())\n",
        "\n",
        "  graph = [[0]*M for _ in range(N)]\n",
        "  visited = [[0]*M for _ in range(N)]\n",
        "\n",
        "  for _ in range(K):\n",
        "    x, y = map(int, input().split())\n",
        "    graph[y][x] = 1\n",
        "\n",
        "  cnt = 0\n",
        "\n",
        "  for fx in range(M):\n",
        "    for fy in range(N):\n",
        "      if DFS([fx,fy]) == 1:\n",
        "        cnt += 1\n",
        "\n",
        "  rst.append(cnt)\n",
        "\n",
        "for i in rst:\n",
        "  print(i)"
      ]
    }
  ]
}