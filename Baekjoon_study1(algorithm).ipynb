{
  "nbformat": 4,
  "nbformat_minor": 0,
  "metadata": {
    "colab": {
      "provenance": [],
      "authorship_tag": "ABX9TyNbP2KgbNBcbiQOiupCn04p",
      "include_colab_link": true
    },
    "kernelspec": {
      "name": "python3",
      "display_name": "Python 3"
    },
    "language_info": {
      "name": "python"
    }
  },
  "cells": [
    {
      "cell_type": "markdown",
      "metadata": {
        "id": "view-in-github",
        "colab_type": "text"
      },
      "source": [
        "<a href=\"https://colab.research.google.com/github/Hyeonglae-Cho/Coding_Study/blob/main/Baekjoon_study1(algorithm).ipynb\" target=\"_parent\"><img src=\"https://colab.research.google.com/assets/colab-badge.svg\" alt=\"Open In Colab\"/></a>"
      ]
    },
    {
      "cell_type": "markdown",
      "source": [],
      "metadata": {
        "id": "mCQZf92LTWbb"
      }
    },
    {
      "cell_type": "code",
      "execution_count": null,
      "metadata": {
        "colab": {
          "base_uri": "https://localhost:8080/"
        },
        "id": "SBeZCtdLR-_q",
        "outputId": "8047868e-47f3-4096-8df5-5d72432b33b3"
      },
      "outputs": [
        {
          "output_type": "stream",
          "name": "stdout",
          "text": [
            "         ,r'\"7\n",
            "r`-_   ,'  ,/\n",
            " \\. \". L_r'\n",
            "   `~\\/\n",
            "      |\n",
            "      |\n"
          ]
        }
      ],
      "source": [
        "# 25083 새싹\n",
        "\n",
        "print('         ,r\\'\"7')\n",
        "print('r`-_   ,\\'  ,/')\n",
        "print(' \\\\. \\\". L_r\\'')\n",
        "print('   `~\\\\/')\n",
        "print('      |')\n",
        "print('      |')"
      ]
    },
    {
      "cell_type": "code",
      "source": [
        "# 2750 수 정렬하기\n",
        "\n",
        "n = int(input())\n",
        "num = []\n",
        "for i in range(n):\n",
        "  num.append(int(input()))\n",
        "num.sort()\n",
        "for i in range(n):\n",
        "  print(num[i])"
      ],
      "metadata": {
        "colab": {
          "base_uri": "https://localhost:8080/"
        },
        "id": "RpGUYgG3TcdM",
        "outputId": "5bb61f15-35d0-4b01-c102-4d9dba48d4ef"
      },
      "execution_count": null,
      "outputs": [
        {
          "output_type": "stream",
          "name": "stdout",
          "text": [
            "5\n",
            "5\n",
            "2\n",
            "3\n",
            "4\n",
            "1\n",
            "1\n",
            "2\n",
            "3\n",
            "4\n",
            "5\n"
          ]
        }
      ]
    },
    {
      "cell_type": "code",
      "source": [
        "# 24262 알고리즘 수업 - 알고리즘의 수행 시간 1\n",
        "\n",
        "print(1)\n",
        "print(0)\n",
        "\n",
        "# 알고리즘의 시간 복잡도: 입력의 크기가 커질 수록 증가되는 소요 시간\n",
        "# O(1): 입력의 크기와 소요되는 시간이 상관없는 경우. 즉, 입력이 커져도 소요 시간이 증가하지 않음. Constant complexity 라고 부름.\n",
        "# O(n): 입력의 크기가 커짐에 따라 선형적으로 소요 시간이 커지는 경우. 소요 시간이 2n, 3n 등으로 증가하더라도 똑같이 표기함. Linear complexity라고 부름.\n",
        "# O(logn): 입력의 크기가 커짐에 따라 소요되는 시간이 점점 감소하는 경우. Logarithmic complexity라고 부름.\n",
        "# O(n2): 입력의 크기가 커짐에 따라 n^2으로 소요시간이 점점 증가하는 경우. 이중반복문 같은 경우를 말함. n^3, n^4도 똑같이 표기함. Quadratic complexity라고 부름.\n",
        "# O(2n): 입력의 크기가 커짐에 따라 기하급수적으로 소요시간이 증가하는 경우. Exponential complexity라고 부름."
      ],
      "metadata": {
        "colab": {
          "base_uri": "https://localhost:8080/"
        },
        "id": "5qFWQJ-SXAjJ",
        "outputId": "51a3592a-c7a3-4306-d66f-0510ac0eb511"
      },
      "execution_count": null,
      "outputs": [
        {
          "output_type": "stream",
          "name": "stdout",
          "text": [
            "1\n",
            "0\n"
          ]
        }
      ]
    },
    {
      "cell_type": "code",
      "source": [
        "# 24263 알고리즘 수업 - 알고리즘의 수행 시간 2\n",
        "\n",
        "n = int(input())\n",
        "\n",
        "print(n)\n",
        "print(1)"
      ],
      "metadata": {
        "colab": {
          "base_uri": "https://localhost:8080/"
        },
        "id": "QnbvTzSNe8eY",
        "outputId": "cbb253cf-a833-4f71-b2e2-8b98276a2d47"
      },
      "execution_count": null,
      "outputs": [
        {
          "output_type": "stream",
          "name": "stdout",
          "text": [
            "7\n",
            "7\n",
            "1\n"
          ]
        }
      ]
    },
    {
      "cell_type": "code",
      "source": [
        "# 24264 알고리즘 수업 - 알고리즘의 수행 시간 3\n",
        "\n",
        "n = int(input())\n",
        "\n",
        "print(n**2)\n",
        "print(2)"
      ],
      "metadata": {
        "colab": {
          "base_uri": "https://localhost:8080/"
        },
        "id": "2Tn-TUpBfqPw",
        "outputId": "a725bb06-f1b9-4723-f12b-eace6d458828"
      },
      "execution_count": null,
      "outputs": [
        {
          "output_type": "stream",
          "name": "stdout",
          "text": [
            "7\n",
            "5\n",
            "2\n"
          ]
        }
      ]
    },
    {
      "cell_type": "code",
      "source": [
        "# 24265 알고리즘 수업 - 알고리즘의 수행 시간 4\n",
        "\n",
        "n = int(input())\n",
        "\n",
        "print(int(n*(n-1)/2))\n",
        "print(2)"
      ],
      "metadata": {
        "colab": {
          "base_uri": "https://localhost:8080/"
        },
        "id": "UcWYBOxLgLZI",
        "outputId": "0b99854a-eb5b-4397-baa9-52cd325ffd7d"
      },
      "execution_count": null,
      "outputs": [
        {
          "output_type": "stream",
          "name": "stdout",
          "text": [
            "7\n",
            "21\n",
            "2\n"
          ]
        }
      ]
    },
    {
      "cell_type": "code",
      "source": [
        "# 24266 알고리즘 수업 - 알고리즘의 수행 시간 5\n",
        "\n",
        "n = int(input())\n",
        "\n",
        "print(n**3)\n",
        "print(3)"
      ],
      "metadata": {
        "colab": {
          "base_uri": "https://localhost:8080/"
        },
        "id": "t9NKpLqDi4t6",
        "outputId": "6e4b0367-9a20-44ee-b52d-f75462c6a54f"
      },
      "execution_count": null,
      "outputs": [
        {
          "output_type": "stream",
          "name": "stdout",
          "text": [
            "7\n",
            "343\n",
            "4\n"
          ]
        }
      ]
    },
    {
      "cell_type": "code",
      "source": [
        "# 24267 알고리즘 수업 - 알고리즘의 수행 시간 6\n",
        "\n",
        "n = int(input())\n",
        "\n",
        "print(int(n*(n-1)*(n-2)/6))\n",
        "print(3)"
      ],
      "metadata": {
        "colab": {
          "base_uri": "https://localhost:8080/"
        },
        "id": "DLh6YwNAjOsx",
        "outputId": "b78ab13b-ff7c-4b07-bac5-990040ef224e"
      },
      "execution_count": null,
      "outputs": [
        {
          "output_type": "stream",
          "name": "stdout",
          "text": [
            "7\n",
            "35.0\n",
            "3\n"
          ]
        }
      ]
    },
    {
      "cell_type": "code",
      "source": [
        "# 24313 알고리즘 수업 - 점근적 표기 1\n",
        "\n",
        "a1, a0 = map(int, input().split())\n",
        "c = int(input())\n",
        "n0 = int(input())\n",
        "\n",
        "if ((c-a1)*n0 >= a0) & (c-a1 >= 0):\n",
        "  print(1)\n",
        "else:\n",
        "  print(0)"
      ],
      "metadata": {
        "colab": {
          "base_uri": "https://localhost:8080/"
        },
        "id": "pXQEGg1fjznm",
        "outputId": "15baf04d-3c67-4763-d26b-1d420fab6402"
      },
      "execution_count": null,
      "outputs": [
        {
          "output_type": "stream",
          "name": "stdout",
          "text": [
            "7 7\n",
            "8\n",
            "1\n",
            "0\n"
          ]
        }
      ]
    },
    {
      "cell_type": "code",
      "source": [
        "# 2798 블랙잭\n",
        "\n",
        "N, M = map(int, input().split())\n",
        "nums = list(map(int, input().split()))\n",
        "sums = []\n",
        "\n",
        "for i in range(0,N-2):\n",
        "  for j in range(i+1,N-1):\n",
        "    for k in range(j+1,N):\n",
        "      if nums[i]+nums[j]+nums[k] <= M:\n",
        "        sums.append(nums[i]+nums[j]+nums[k])\n",
        "\n",
        "print(max(sums))"
      ],
      "metadata": {
        "colab": {
          "base_uri": "https://localhost:8080/"
        },
        "id": "6XR3snqUtFGw",
        "outputId": "de8ce817-b288-49a3-a6d3-79350474c7f6"
      },
      "execution_count": null,
      "outputs": [
        {
          "output_type": "stream",
          "name": "stdout",
          "text": [
            "5 21\n",
            "5 6 7 8 9\n",
            "21\n"
          ]
        }
      ]
    },
    {
      "cell_type": "code",
      "source": [
        "# 2231 분해합\n",
        "\n",
        "N = int(input())\n",
        "sums = []\n",
        "\n",
        "for j in range(N):\n",
        "  ints = []\n",
        "  for i in range(1,7):\n",
        "    if (j % 10**i) // 10**(i-1) == 0:\n",
        "      break\n",
        "    ints.append((j % 10**i) // 10**(i-1))\n",
        "  sums.append(j + sum(ints))\n",
        "\n",
        "if N in sums:\n",
        "  print(sums.index(N))\n",
        "else:\n",
        "  print(0)"
      ],
      "metadata": {
        "colab": {
          "base_uri": "https://localhost:8080/"
        },
        "id": "nF6ws9Al_Jne",
        "outputId": "fb1e3ebe-aa0b-48f9-ada6-541e5d5335d7"
      },
      "execution_count": null,
      "outputs": [
        {
          "name": "stdout",
          "output_type": "stream",
          "text": [
            "216\n"
          ]
        }
      ]
    },
    {
      "cell_type": "code",
      "source": [
        "# 19532 수학은 비대면강의입니다\n",
        "\n",
        "a, b, c, d, e, f = map(int, input().split())\n",
        "\n",
        "for x in range(-999,1000):\n",
        "  for y in range(-999, 1000):\n",
        "    if (a*x + b*y == c) and (d*x + e*y == f):\n",
        "      print(x, y)\n",
        "      break\n",
        "\n",
        "# 조건문에서 and와 &의 역할은 같지만, 연산속도에 있어서 and가 훨씬 빠름."
      ],
      "metadata": {
        "colab": {
          "base_uri": "https://localhost:8080/"
        },
        "id": "pXe3jpuhEAdi",
        "outputId": "5e6a102c-0405-4d36-85a7-6d16d0bb8312"
      },
      "execution_count": null,
      "outputs": [
        {
          "output_type": "stream",
          "name": "stdout",
          "text": [
            "2 5 8 3 -4 -11\n",
            "-1 2\n"
          ]
        }
      ]
    }
  ]
}