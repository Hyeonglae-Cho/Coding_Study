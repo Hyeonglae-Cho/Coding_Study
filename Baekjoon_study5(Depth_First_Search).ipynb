{
  "nbformat": 4,
  "nbformat_minor": 0,
  "metadata": {
    "colab": {
      "provenance": [],
      "authorship_tag": "ABX9TyMm6vli9o4vPH4l/ytVQ1q7",
      "include_colab_link": true
    },
    "kernelspec": {
      "name": "python3",
      "display_name": "Python 3"
    },
    "language_info": {
      "name": "python"
    }
  },
  "cells": [
    {
      "cell_type": "markdown",
      "metadata": {
        "id": "view-in-github",
        "colab_type": "text"
      },
      "source": [
        "<a href=\"https://colab.research.google.com/github/Hyeonglae-Cho/Coding_Study/blob/main/Baekjoon_study5(Depth_First_Search).ipynb\" target=\"_parent\"><img src=\"https://colab.research.google.com/assets/colab-badge.svg\" alt=\"Open In Colab\"/></a>"
      ]
    },
    {
      "cell_type": "code",
      "execution_count": null,
      "metadata": {
        "id": "C9Ft1lhBApJp"
      },
      "outputs": [],
      "source": [
        "# 24479 알고리즘 수업 - 깊이 우선 탐색 1 (version1)\n",
        "\n",
        "from collections import deque\n",
        "import sys\n",
        "\n",
        "input = sys.stdin.readline\n",
        "\n",
        "N, M, R = map(int, input().split())\n",
        "graph = [[] for _ in range(N+1)]\n",
        "visited = [0]*(N+1)\n",
        "idx = [0]*(N+1)\n",
        "\n",
        "for _ in range(M):\n",
        "  vert1, vert2 = map(int, input().split())\n",
        "  graph[vert1].append(vert2)\n",
        "  graph[vert2].append(vert1)\n",
        "\n",
        "queue = deque([R])\n",
        "count = 1\n",
        "\n",
        "while queue:\n",
        "  vert = queue.popleft()\n",
        "\n",
        "  if idx[vert] == 1:\n",
        "    continue\n",
        "\n",
        "  idx[vert] = 1\n",
        "\n",
        "  visited[vert] = count\n",
        "  count += 1\n",
        "  graph[vert].sort(reverse=True)\n",
        "\n",
        "  for v in graph[vert]:\n",
        "    if visited[v] == 0:\n",
        "      queue.appendleft(v)\n",
        "\n",
        "for i in range(1,(N+1)):\n",
        "  print(visited[i])"
      ]
    },
    {
      "cell_type": "code",
      "source": [
        "# 24479 알고리즘 수업 - 깊이 우선 탐색 1 (version2)\n",
        "\n",
        "from collections import deque\n",
        "import sys\n",
        "\n",
        "sys.setrecursionlimit(100001)\n",
        "input = sys.stdin.readline\n",
        "\n",
        "N, M, R = map(int, input().split())\n",
        "graph = [[] for _ in range(N+1)]\n",
        "visited = [0]*(N+1)\n",
        "\n",
        "for _ in range(M):\n",
        "  vert1, vert2 = map(int, input().split())\n",
        "  graph[vert1].append(vert2)\n",
        "  graph[vert2].append(vert1)\n",
        "\n",
        "count = 1\n",
        "\n",
        "def DFS(vert):\n",
        "  global count\n",
        "\n",
        "  visited[vert] = count\n",
        "  graph[vert].sort()\n",
        "\n",
        "  for v in graph[vert]:\n",
        "\n",
        "    if visited[v] == 0:\n",
        "      count += 1\n",
        "      DFS(v)\n",
        "\n",
        "DFS(R)\n",
        "\n",
        "for i in range(1,N+1):\n",
        "  print(visited[i])"
      ],
      "metadata": {
        "id": "7goms1AXpGvH"
      },
      "execution_count": null,
      "outputs": []
    },
    {
      "cell_type": "code",
      "source": [
        "# 24480 알고리즘 수업 - 깊이 우선 탐색 2\n",
        "\n",
        "import sys\n",
        "\n",
        "input = sys.stdin.readline\n",
        "\n",
        "N, M, R = map(int, input().split())\n",
        "graph = [[] for _ in range(N+1)]\n",
        "visited = [0]*(N+1)\n",
        "idx = [0]*(N+1)\n",
        "\n",
        "for _ in range(M):\n",
        "  vert1, vert2 = map(int, input().split())\n",
        "  graph[vert1].append(vert2)\n",
        "  graph[vert2].append(vert1)\n",
        "\n",
        "cnt = 0\n",
        "queue = []\n",
        "queue.append(R)\n",
        "\n",
        "while queue:\n",
        "  vert = queue.pop()\n",
        "\n",
        "  if idx[vert] == 1:\n",
        "    continue\n",
        "\n",
        "  graph[vert].sort()\n",
        "  cnt += 1\n",
        "  visited[vert] = cnt\n",
        "  idx[vert] = 1\n",
        "\n",
        "  for v in graph[vert]:\n",
        "    if visited[v] == 0:\n",
        "      queue.append(v)\n",
        "\n",
        "\n",
        "\n",
        "for i in range(1,N+1):\n",
        "  print(visited[i])"
      ],
      "metadata": {
        "colab": {
          "base_uri": "https://localhost:8080/"
        },
        "id": "yQeGlcKZvFNY",
        "outputId": "ab5c3cd6-9877-4616-b884-57d106251c6f"
      },
      "execution_count": null,
      "outputs": [
        {
          "output_type": "stream",
          "name": "stdout",
          "text": [
            "3 3 1\n",
            "1 2\n",
            "1 3\n",
            "2 3\n",
            "1\n",
            "3\n",
            "2\n"
          ]
        }
      ]
    },
    {
      "cell_type": "code",
      "source": [
        "# 24481 알고리즘 수업 - 깊이 우선 탐색 3\n",
        "\n",
        "import sys\n",
        "\n",
        "input = sys.stdin.readline\n",
        "\n",
        "N, M, R = map(int, input().split())\n",
        "\n",
        "graph = [[] for _ in range(N+1)]\n",
        "visited = [-1]*(N+1)\n",
        "#idx = [0]*(N+1)\n",
        "\n",
        "for _ in range(M):\n",
        "  vert1, vert2 = map(int, input().split())\n",
        "  graph[vert1].append(vert2)\n",
        "  graph[vert2].append(vert1)\n",
        "\n",
        "queue = []\n",
        "queue.append([R,R]) # 깊이 우선 탐색에서는 인접한 node를 append하는 시점과 해당 node를 탐색하는 시점이 다르기 때문에, child and parent nodes를 함께 저장하면 쉬움.\n",
        "\n",
        "while queue:\n",
        "  child, parent = queue.pop()\n",
        "\n",
        "  if visited[child] != -1:\n",
        "    continue\n",
        "\n",
        "  visited[child] = visited[parent] + 1\n",
        "  #idx[child] = 1\n",
        "  graph[child].sort(reverse = True)\n",
        "\n",
        "  for v in graph[child]:\n",
        "    if visited[v] == -1: # visited를 idx로 바꿔도 정답임. visited[v] == -1 과 idx[v] == 0 이 완전 동치인 조건임.\n",
        "      queue.append([v,child])\n",
        "\n",
        "for i in range(1,N+1):\n",
        "  print(visited[i])"
      ],
      "metadata": {
        "colab": {
          "base_uri": "https://localhost:8080/"
        },
        "id": "eiVVBmZmvQTY",
        "outputId": "13f86277-4b17-4479-9301-a1314bd8501f"
      },
      "execution_count": null,
      "outputs": [
        {
          "name": "stdout",
          "output_type": "stream",
          "text": [
            "5 5 1\n",
            "1 4\n",
            "1 2\n",
            "2 3\n",
            "2 4\n",
            "3 4\n"
          ]
        }
      ]
    },
    {
      "cell_type": "code",
      "source": [
        "# 24482 알고리즘 수업 - 깊이 우선 탐색 4\n",
        "\n",
        "import sys\n",
        "\n",
        "input = sys.stdin.readline\n",
        "\n",
        "N, M, R = map(int, input().split())\n",
        "\n",
        "graph = [[] for _ in range(N+1)]\n",
        "visited = [-1]*(N+1)\n",
        "\n",
        "for _ in range(M):\n",
        "  vert1, vert2 = map(int, input().split())\n",
        "  graph[vert1].append(vert2)\n",
        "  graph[vert2].append(vert1)\n",
        "\n",
        "queue = []\n",
        "queue.append([R,R])\n",
        "\n",
        "while queue:\n",
        "  child, parent = queue.pop()\n",
        "\n",
        "  if visited[child] != -1:\n",
        "    continue\n",
        "\n",
        "  graph[child].sort()\n",
        "  visited[child] = visited[parent] + 1\n",
        "\n",
        "  for v in graph[child]:\n",
        "    if visited[v] == -1:\n",
        "      queue.append([v,child])\n",
        "\n",
        "for i in range(1,N+1):\n",
        "  print(visited[i])\n"
      ],
      "metadata": {
        "id": "hyLJrAU_opVi"
      },
      "execution_count": null,
      "outputs": []
    },
    {
      "cell_type": "code",
      "source": [
        "# 24483 알고리즘 수업 - 깊이 우선 탐색 5\n",
        "\n",
        "import sys\n",
        "\n",
        "input = sys.stdin.readline\n",
        "\n",
        "N, M, R = map(int, input().split())\n",
        "\n",
        "graph = [[] for _ in range(N+1)]\n",
        "visited = [0]*(N+1)\n",
        "depth = [-1]*(N+1)\n",
        "\n",
        "for _ in range(M):\n",
        "  vert1, vert2 = map(int, input().split())\n",
        "  graph[vert1].append(vert2)\n",
        "  graph[vert2].append(vert1)\n",
        "\n",
        "cnt = 0\n",
        "queue = []\n",
        "queue.append([R,R])\n",
        "\n",
        "while queue:\n",
        "  child, parent = queue.pop()\n",
        "\n",
        "  if visited[child] != 0:\n",
        "    continue\n",
        "\n",
        "  depth[child] = depth[parent] + 1\n",
        "  cnt += 1\n",
        "  visited[child] = cnt\n",
        "  graph[child].sort(reverse=True)\n",
        "\n",
        "  for v in graph[child]:\n",
        "    if visited[v] == 0:\n",
        "      queue.append([v,child])\n",
        "\n",
        "sum = 0\n",
        "for t,d in zip(visited,depth):\n",
        "  sum += t*d\n",
        "\n",
        "print(sum)"
      ],
      "metadata": {
        "colab": {
          "base_uri": "https://localhost:8080/"
        },
        "id": "B4zzZ7GiqYjn",
        "outputId": "10f336e6-9f58-4636-bfe7-1163c2490cea"
      },
      "execution_count": 8,
      "outputs": [
        {
          "name": "stdout",
          "output_type": "stream",
          "text": [
            "5 5 1\n",
            "1 4\n",
            "1 2\n",
            "2 3\n",
            "2 4\n",
            "3 4\n"
          ]
        }
      ]
    },
    {
      "cell_type": "code",
      "source": [
        "# 24484 알고리즘 수업 - 깊이 우선 탐색 6\n",
        "\n",
        "import sys\n",
        "\n",
        "input = sys.stdin.readline\n",
        "\n",
        "N, M, R = map(int, input().split())\n",
        "\n",
        "graph = [[] for _ in range(N+1)]\n",
        "visited = [0]*(N+1)\n",
        "depth = [-1]*(N+1)\n",
        "\n",
        "for _ in range(M):\n",
        "  vert1, vert2 = map(int, input().split())\n",
        "  graph[vert1].append(vert2)\n",
        "  graph[vert2].append(vert1)\n",
        "\n",
        "cnt = 0\n",
        "queue = []\n",
        "queue.append([R,R])\n",
        "\n",
        "while queue:\n",
        "  child, parent = queue.pop()\n",
        "\n",
        "  if visited[child] != 0:\n",
        "    continue\n",
        "\n",
        "  depth[child] = depth[parent] + 1\n",
        "  cnt += 1\n",
        "  visited[child] = cnt\n",
        "  graph[child].sort()\n",
        "\n",
        "  for v in graph[child]:\n",
        "    if visited[v] == 0:\n",
        "      queue.append([v,child])\n",
        "\n",
        "sum = 0\n",
        "for t,d in zip(visited,depth):\n",
        "  sum += t*d\n",
        "\n",
        "print(sum)"
      ],
      "metadata": {
        "colab": {
          "base_uri": "https://localhost:8080/"
        },
        "id": "E1AL2zEAqyyD",
        "outputId": "8fd94d04-5733-4c44-abee-1f6d5d4a1c08"
      },
      "execution_count": 9,
      "outputs": [
        {
          "output_type": "execute_result",
          "data": {
            "text/plain": [
              "[0, 1, 2, 3, 4, 0]"
            ]
          },
          "metadata": {},
          "execution_count": 9
        }
      ]
    }
  ]
}