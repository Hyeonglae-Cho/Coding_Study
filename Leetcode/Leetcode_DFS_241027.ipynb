{
  "nbformat": 4,
  "nbformat_minor": 0,
  "metadata": {
    "colab": {
      "provenance": [],
      "authorship_tag": "ABX9TyP8pKm2oDZOlgUpK5ttTpt4",
      "include_colab_link": true
    },
    "kernelspec": {
      "name": "python3",
      "display_name": "Python 3"
    },
    "language_info": {
      "name": "python"
    }
  },
  "cells": [
    {
      "cell_type": "markdown",
      "metadata": {
        "id": "view-in-github",
        "colab_type": "text"
      },
      "source": [
        "<a href=\"https://colab.research.google.com/github/Hyeonglae-Cho/Coding_Study/blob/main/Leetcode/Leetcode_DFS_241027.ipynb\" target=\"_parent\"><img src=\"https://colab.research.google.com/assets/colab-badge.svg\" alt=\"Open In Colab\"/></a>"
      ]
    },
    {
      "cell_type": "markdown",
      "source": [
        "### 94. Binary Tree Inorder Traversal"
      ],
      "metadata": {
        "id": "SOGevgDAFXuJ"
      }
    },
    {
      "cell_type": "code",
      "source": [
        "class TreeNode(object):\n",
        "    def __init__(self, val=0, left=None, right=None):\n",
        "        self.val = val\n",
        "        self.left = left\n",
        "        self.right = right"
      ],
      "metadata": {
        "id": "T72aH9F-IjQg"
      },
      "execution_count": 10,
      "outputs": []
    },
    {
      "cell_type": "code",
      "source": [
        "class Solution:\n",
        "    def inorderTraversal(self, root: TreeNode) -> list[int]:\n",
        "        if not root:return []\n",
        "        res = []\n",
        "        res+=self.inorderTraversal(root.left)\n",
        "        res.append(root.val)\n",
        "        res+=self.inorderTraversal(root.right)\n",
        "        return res"
      ],
      "metadata": {
        "id": "E-M0lkv1Lfo4"
      },
      "execution_count": 25,
      "outputs": []
    },
    {
      "cell_type": "code",
      "source": [
        "root = TreeNode(1)\n",
        "root.left = TreeNode(2)\n",
        "root.right = TreeNode(3)\n",
        "root.left.left = TreeNode(4)\n",
        "root.right.left = TreeNode(5)"
      ],
      "metadata": {
        "id": "7OorRtsn6ICn"
      },
      "execution_count": 26,
      "outputs": []
    },
    {
      "cell_type": "code",
      "source": [
        "solution = Solution()\n",
        "solution.inorderTraversal(root)"
      ],
      "metadata": {
        "colab": {
          "base_uri": "https://localhost:8080/"
        },
        "id": "ZfRWUGXpLg1f",
        "outputId": "f208a858-47a5-4283-d55e-e743e761f31e"
      },
      "execution_count": 27,
      "outputs": [
        {
          "output_type": "execute_result",
          "data": {
            "text/plain": [
              "[4, 2, 1, 5, 3]"
            ]
          },
          "metadata": {},
          "execution_count": 27
        }
      ]
    },
    {
      "cell_type": "markdown",
      "source": [
        "### 100. Same Tree"
      ],
      "metadata": {
        "id": "AojKh_hzuWUr"
      }
    },
    {
      "cell_type": "code",
      "source": [
        "class Solution:\n",
        "  def isSameTree(self, p: TreeNode, q: TreeNode) -> bool:\n",
        "    if not p and not q: return True\n",
        "    elif (not p and q) or (p and not q): return False\n",
        "\n",
        "    if self.isSameTree(p.left,q.left) == False: return False\n",
        "\n",
        "    if p.val != q.val: return False\n",
        "\n",
        "    if self.isSameTree(p.right,q.right) == False: return False\n",
        "\n",
        "    return True"
      ],
      "metadata": {
        "id": "JBwZH5HauZ0Z"
      },
      "execution_count": 83,
      "outputs": []
    },
    {
      "cell_type": "code",
      "source": [
        "p = TreeNode(10)\n",
        "p.left = TreeNode(5)\n",
        "p.right = TreeNode(15)"
      ],
      "metadata": {
        "id": "S33N0Xqt1pp4"
      },
      "execution_count": 84,
      "outputs": []
    },
    {
      "cell_type": "code",
      "source": [
        "q = TreeNode(10)\n",
        "q.left = TreeNode(5)\n",
        "q.left.right = TreeNode(15)"
      ],
      "metadata": {
        "id": "IUgFI5CW5uS2"
      },
      "execution_count": 85,
      "outputs": []
    },
    {
      "cell_type": "code",
      "source": [
        "solution = Solution()\n",
        "solution.isSameTree(p,q)"
      ],
      "metadata": {
        "id": "JnKOtcdC1yCL"
      },
      "execution_count": 86,
      "outputs": []
    }
  ]
}